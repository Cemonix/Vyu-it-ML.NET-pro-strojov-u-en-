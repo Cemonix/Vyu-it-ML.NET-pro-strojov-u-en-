{
 "cells": [
  {
   "cell_type": "markdown",
   "id": "a5c4aaa8-0f5e-4df4-be20-1add25429129",
   "metadata": {},
   "source": [
    "<h2><center>Iris dataset</center></h2>\n",
    "<div><center>Rozpoznávání druhu květiny Iris podle rozměrů okvětních lístků.</center></div>\n",
    "<hr>"
   ]
  },
  {
   "cell_type": "code",
   "execution_count": 1,
   "id": "81114a40-ed48-4540-beba-a9d5d89baeaf",
   "metadata": {},
   "outputs": [
    {
     "data": {
      "text/html": [
       "\r\n",
       "<div>\r\n",
       "    <div id='dotnet-interactive-this-cell-16888.Microsoft.DotNet.Interactive.Http.HttpPort' style='display: none'>\r\n",
       "        The below script needs to be able to find the current output cell; this is an easy method to get it.\r\n",
       "    </div>\r\n",
       "    <script type='text/javascript'>\r\n",
       "async function probeAddresses(probingAddresses) {\r\n",
       "    function timeout(ms, promise) {\r\n",
       "        return new Promise(function (resolve, reject) {\r\n",
       "            setTimeout(function () {\r\n",
       "                reject(new Error('timeout'))\r\n",
       "            }, ms)\r\n",
       "            promise.then(resolve, reject)\r\n",
       "        })\r\n",
       "    }\r\n",
       "\r\n",
       "    if (Array.isArray(probingAddresses)) {\r\n",
       "        for (let i = 0; i < probingAddresses.length; i++) {\r\n",
       "\r\n",
       "            let rootUrl = probingAddresses[i];\r\n",
       "\r\n",
       "            if (!rootUrl.endsWith('/')) {\r\n",
       "                rootUrl = `${rootUrl}/`;\r\n",
       "            }\r\n",
       "\r\n",
       "            try {\r\n",
       "                let response = await timeout(1000, fetch(`${rootUrl}discovery`, {\r\n",
       "                    method: 'POST',\r\n",
       "                    cache: 'no-cache',\r\n",
       "                    mode: 'cors',\r\n",
       "                    timeout: 1000,\r\n",
       "                    headers: {\r\n",
       "                        'Content-Type': 'text/plain'\r\n",
       "                    },\r\n",
       "                    body: probingAddresses[i]\r\n",
       "                }));\r\n",
       "\r\n",
       "                if (response.status == 200) {\r\n",
       "                    return rootUrl;\r\n",
       "                }\r\n",
       "            }\r\n",
       "            catch (e) { }\r\n",
       "        }\r\n",
       "    }\r\n",
       "}\r\n",
       "\r\n",
       "function loadDotnetInteractiveApi() {\r\n",
       "    probeAddresses([\"http://192.168.0.181:1002/\", \"http://127.0.0.1:1002/\"])\r\n",
       "        .then((root) => {\r\n",
       "        // use probing to find host url and api resources\r\n",
       "        // load interactive helpers and language services\r\n",
       "        let dotnetInteractiveRequire = require.config({\r\n",
       "        context: '16888.Microsoft.DotNet.Interactive.Http.HttpPort',\r\n",
       "                paths:\r\n",
       "            {\r\n",
       "                'dotnet-interactive': `${root}resources`\r\n",
       "                }\r\n",
       "        }) || require;\r\n",
       "\r\n",
       "            window.dotnetInteractiveRequire = dotnetInteractiveRequire;\r\n",
       "\r\n",
       "            window.configureRequireFromExtension = function(extensionName, extensionCacheBuster) {\r\n",
       "                let paths = {};\r\n",
       "                paths[extensionName] = `${root}extensions/${extensionName}/resources/`;\r\n",
       "                \r\n",
       "                let internalRequire = require.config({\r\n",
       "                    context: extensionCacheBuster,\r\n",
       "                    paths: paths,\r\n",
       "                    urlArgs: `cacheBuster=${extensionCacheBuster}`\r\n",
       "                    }) || require;\r\n",
       "\r\n",
       "                return internalRequire\r\n",
       "            };\r\n",
       "        \r\n",
       "            dotnetInteractiveRequire([\r\n",
       "                    'dotnet-interactive/dotnet-interactive'\r\n",
       "                ],\r\n",
       "                function (dotnet) {\r\n",
       "                    dotnet.init(window);\r\n",
       "                },\r\n",
       "                function (error) {\r\n",
       "                    console.log(error);\r\n",
       "                }\r\n",
       "            );\r\n",
       "        })\r\n",
       "        .catch(error => {console.log(error);});\r\n",
       "    }\r\n",
       "\r\n",
       "// ensure `require` is available globally\r\n",
       "if ((typeof(require) !==  typeof(Function)) || (typeof(require.config) !== typeof(Function))) {\r\n",
       "    let require_script = document.createElement('script');\r\n",
       "    require_script.setAttribute('src', 'https://cdnjs.cloudflare.com/ajax/libs/require.js/2.3.6/require.min.js');\r\n",
       "    require_script.setAttribute('type', 'text/javascript');\r\n",
       "    \r\n",
       "    \r\n",
       "    require_script.onload = function() {\r\n",
       "        loadDotnetInteractiveApi();\r\n",
       "    };\r\n",
       "\r\n",
       "    document.getElementsByTagName('head')[0].appendChild(require_script);\r\n",
       "}\r\n",
       "else {\r\n",
       "    loadDotnetInteractiveApi();\r\n",
       "}\r\n",
       "\r\n",
       "    </script>\r\n",
       "</div>"
      ]
     },
     "metadata": {},
     "output_type": "display_data"
    },
    {
     "data": {
      "text/html": [
       "<div><div></div><div></div><div><strong>Installed Packages</strong><ul><li><span>MathNet.Numerics, 5.0.0</span></li><li><span>Microsoft.Data.Analysis, 0.19.1</span></li><li><span>Microsoft.ML, 1.7.1</span></li><li><span>Microsoft.ML.AutoML, 0.19.1</span></li><li><span>Microsoft.ML.DataView, 1.7.1</span></li><li><span>XPlot.Plotly, 4.0.6</span></li><li><span>XPlot.Plotly.Interactive, 4.0.6</span></li></ul></div></div>"
      ]
     },
     "metadata": {},
     "output_type": "display_data"
    },
    {
     "data": {
      "text/markdown": [
       "Loading extensions from `XPlot.Plotly.Interactive.dll`"
      ]
     },
     "metadata": {},
     "output_type": "display_data"
    },
    {
     "data": {
      "text/markdown": [
       "Configuring PowerShell Kernel for XPlot.Plotly integration."
      ]
     },
     "metadata": {},
     "output_type": "display_data"
    },
    {
     "data": {
      "text/markdown": [
       "Installed support for XPlot.Plotly."
      ]
     },
     "metadata": {},
     "output_type": "display_data"
    },
    {
     "data": {
      "text/markdown": [
       "Loading extensions from `Microsoft.Data.Analysis.Interactive.dll`"
      ]
     },
     "metadata": {},
     "output_type": "display_data"
    }
   ],
   "source": [
    "// Instalace Nuget packagů\n",
    "#r \"nuget: Microsoft.Data.Analysis\"\n",
    "    \n",
    "#r \"nuget: XPlot.Plotly\"\n",
    "#r \"nuget: XPlot.Plotly.Interactive\"\n",
    "#r \"nuget: MathNet.Numerics\"\n",
    "    \n",
    "#r \"nuget: Microsoft.ML\"\n",
    "#r \"nuget: Microsoft.ML.AutoML\"\n",
    "#r \"nuget: Microsoft.ML.DataView\""
   ]
  },
  {
   "cell_type": "code",
   "execution_count": 2,
   "id": "7d36bf58-c3bc-4158-91dd-547caad9ab63",
   "metadata": {},
   "outputs": [],
   "source": [
    "// Načtení namespaců\n",
    "using System;\n",
    "using System.Linq;\n",
    "using System.IO;\n",
    "using System.Globalization;\n",
    "\n",
    "using XPlot.Plotly;\n",
    "using Microsoft.Data.Analysis;\n",
    "using Microsoft.AspNetCore.Html;\n",
    "using Microsoft.DotNet.Interactive.Formatting;\n",
    "using static Microsoft.DotNet.Interactive.Formatting.PocketViewTags;\n",
    "\n",
    "using MathNet.Numerics.Statistics;\n",
    "\n",
    "using Microsoft.ML;\n",
    "using Microsoft.ML.Data;\n",
    "using Microsoft.ML.AutoML;\n",
    "using Microsoft.ML.Trainers;"
   ]
  },
  {
   "cell_type": "code",
   "execution_count": 3,
   "id": "6c059d95-ae70-4843-be1d-421987f22f88",
   "metadata": {},
   "outputs": [],
   "source": [
    "// Formátovač tabulek - použít jen v případě, že se data nezobrazují v tabulce\n",
    "/*\n",
    "Formatter.Register<DataFrame>((df, writer) =>\n",
    "{\n",
    "    var headers = new List<IHtmlContent>();\n",
    "    headers.Add(th(i(\"index\")));\n",
    "    headers.AddRange(df.Columns.Select(c => (IHtmlContent) th(c.Name)));\n",
    "    var rows = new List<List<IHtmlContent>>();\n",
    "    var take = 10;\n",
    "    for (var i = 0; i < Math.Min(take, df.Rows.Count); i++)\n",
    "    {\n",
    "        var cells = new List<IHtmlContent>();\n",
    "        cells.Add(td(i));\n",
    "        foreach (var obj in df.Rows[i])\n",
    "        {\n",
    "            cells.Add(td(obj));\n",
    "        }\n",
    "        rows.Add(cells);\n",
    "    }\n",
    "\n",
    "    var t = table(\n",
    "        thead(\n",
    "            headers),\n",
    "        tbody(\n",
    "            rows.Select(\n",
    "                r => tr(r))));\n",
    "\n",
    "    writer.Write(t);\n",
    "}, \"text/html\");\n",
    "*/"
   ]
  },
  {
   "cell_type": "code",
   "execution_count": 4,
   "id": "9d3c5e1c-bfb4-4a41-919a-8fd79bbd89ed",
   "metadata": {},
   "outputs": [],
   "source": [
    "// Třída pro načtení dat knihovnou Microsoft.ML\n",
    "class ModelInput\n",
    "{\n",
    "    [LoadColumn(1)]\n",
    "    public float SepalLengthCm { get; set; }\n",
    "\n",
    "    [LoadColumn(2)]\n",
    "    public float SepalWidthCm { get; set; }\n",
    "\n",
    "    [LoadColumn(3)]\n",
    "    public float PetalLengthCm { get; set; }\n",
    "\n",
    "    [LoadColumn(4)]\n",
    "    public float PetalWidthCm { get; set; }\n",
    "\n",
    "    [LoadColumn(5)]\n",
    "    public string Species { get; set; }\n",
    "}"
   ]
  },
  {
   "cell_type": "code",
   "execution_count": 5,
   "id": "58e9482f-5f0b-4602-9fd8-18ef296e1213",
   "metadata": {},
   "outputs": [],
   "source": [
    "class ModelOutput\n",
    "{\n",
    "    public uint Label { get; set; }\n",
    "\n",
    "    public float[] Features { get; set; }\n",
    "\n",
    "    public uint PredictedLabel { get; set; }\n",
    "\n",
    "    public float[] Score { get; set; }\n",
    "}"
   ]
  },
  {
   "cell_type": "code",
   "execution_count": 6,
   "id": "bc2d2c61-3c10-4dc1-9883-02ccb9575c98",
   "metadata": {
    "tags": []
   },
   "outputs": [],
   "source": [
    "// Názvy sloupců\n",
    "var columnNames = new List<string>() { \"SepalLengthCm\", \"SepalWidthCm\", \"PetalLengthCm\",\n",
    "                                      \"PetalWidthCm\", \"Species\" };\n",
    "// Vytváření modelu\n",
    "var context = new MLContext();\n",
    "\n",
    "// Načtení dat knihovnou Microsoft.ML\n",
    "var data = context.Data.LoadFromTextFile<ModelInput>(\"./Dataset/Iris.csv\", hasHeader: true, separatorChar: ',');\n",
    "var df = data.ToDataFrame(maxRows: -1);"
   ]
  },
  {
   "cell_type": "code",
   "execution_count": 7,
   "id": "3e0c2a28-3156-43bd-8204-93ffda452e36",
   "metadata": {},
   "outputs": [
    {
     "data": {
      "text/html": [
       "<table id=\"table_637851922807279307\"><caption><h3 style=\"text-align: center;\">DataFrame - 150 rows </h3></caption><thead><tr><th><i>index</i></th><th>SepalLengthCm</th><th>SepalWidthCm</th><th>PetalLengthCm</th><th>PetalWidthCm</th><th>Species</th></tr></thead><tbody><tr style=\"display: none\"><td><i><div class=\"dni-plaintext\">0</div></i></td><td><div class=\"dni-plaintext\">5.1</div></td><td><div class=\"dni-plaintext\">3.5</div></td><td><div class=\"dni-plaintext\">1.4</div></td><td><div class=\"dni-plaintext\">0.2</div></td><td>Iris-setosa</td></tr><tr style=\"display: none\"><td><i><div class=\"dni-plaintext\">1</div></i></td><td><div class=\"dni-plaintext\">4.9</div></td><td><div class=\"dni-plaintext\">3</div></td><td><div class=\"dni-plaintext\">1.4</div></td><td><div class=\"dni-plaintext\">0.2</div></td><td>Iris-setosa</td></tr><tr style=\"display: none\"><td><i><div class=\"dni-plaintext\">2</div></i></td><td><div class=\"dni-plaintext\">4.7</div></td><td><div class=\"dni-plaintext\">3.2</div></td><td><div class=\"dni-plaintext\">1.3</div></td><td><div class=\"dni-plaintext\">0.2</div></td><td>Iris-setosa</td></tr><tr style=\"display: none\"><td><i><div class=\"dni-plaintext\">3</div></i></td><td><div class=\"dni-plaintext\">4.6</div></td><td><div class=\"dni-plaintext\">3.1</div></td><td><div class=\"dni-plaintext\">1.5</div></td><td><div class=\"dni-plaintext\">0.2</div></td><td>Iris-setosa</td></tr><tr style=\"display: none\"><td><i><div class=\"dni-plaintext\">4</div></i></td><td><div class=\"dni-plaintext\">5</div></td><td><div class=\"dni-plaintext\">3.6</div></td><td><div class=\"dni-plaintext\">1.4</div></td><td><div class=\"dni-plaintext\">0.2</div></td><td>Iris-setosa</td></tr><tr style=\"display: none\"><td><i><div class=\"dni-plaintext\">5</div></i></td><td><div class=\"dni-plaintext\">5.4</div></td><td><div class=\"dni-plaintext\">3.9</div></td><td><div class=\"dni-plaintext\">1.7</div></td><td><div class=\"dni-plaintext\">0.4</div></td><td>Iris-setosa</td></tr><tr style=\"display: none\"><td><i><div class=\"dni-plaintext\">6</div></i></td><td><div class=\"dni-plaintext\">4.6</div></td><td><div class=\"dni-plaintext\">3.4</div></td><td><div class=\"dni-plaintext\">1.4</div></td><td><div class=\"dni-plaintext\">0.3</div></td><td>Iris-setosa</td></tr><tr style=\"display: none\"><td><i><div class=\"dni-plaintext\">7</div></i></td><td><div class=\"dni-plaintext\">5</div></td><td><div class=\"dni-plaintext\">3.4</div></td><td><div class=\"dni-plaintext\">1.5</div></td><td><div class=\"dni-plaintext\">0.2</div></td><td>Iris-setosa</td></tr><tr style=\"display: none\"><td><i><div class=\"dni-plaintext\">8</div></i></td><td><div class=\"dni-plaintext\">4.4</div></td><td><div class=\"dni-plaintext\">2.9</div></td><td><div class=\"dni-plaintext\">1.4</div></td><td><div class=\"dni-plaintext\">0.2</div></td><td>Iris-setosa</td></tr><tr style=\"display: none\"><td><i><div class=\"dni-plaintext\">9</div></i></td><td><div class=\"dni-plaintext\">4.9</div></td><td><div class=\"dni-plaintext\">3.1</div></td><td><div class=\"dni-plaintext\">1.5</div></td><td><div class=\"dni-plaintext\">0.1</div></td><td>Iris-setosa</td></tr><tr style=\"display: none\"><td><i><div class=\"dni-plaintext\">10</div></i></td><td><div class=\"dni-plaintext\">5.4</div></td><td><div class=\"dni-plaintext\">3.7</div></td><td><div class=\"dni-plaintext\">1.5</div></td><td><div class=\"dni-plaintext\">0.2</div></td><td>Iris-setosa</td></tr><tr style=\"display: none\"><td><i><div class=\"dni-plaintext\">11</div></i></td><td><div class=\"dni-plaintext\">4.8</div></td><td><div class=\"dni-plaintext\">3.4</div></td><td><div class=\"dni-plaintext\">1.6</div></td><td><div class=\"dni-plaintext\">0.2</div></td><td>Iris-setosa</td></tr><tr style=\"display: none\"><td><i><div class=\"dni-plaintext\">12</div></i></td><td><div class=\"dni-plaintext\">4.8</div></td><td><div class=\"dni-plaintext\">3</div></td><td><div class=\"dni-plaintext\">1.4</div></td><td><div class=\"dni-plaintext\">0.1</div></td><td>Iris-setosa</td></tr><tr style=\"display: none\"><td><i><div class=\"dni-plaintext\">13</div></i></td><td><div class=\"dni-plaintext\">4.3</div></td><td><div class=\"dni-plaintext\">3</div></td><td><div class=\"dni-plaintext\">1.1</div></td><td><div class=\"dni-plaintext\">0.1</div></td><td>Iris-setosa</td></tr><tr style=\"display: none\"><td><i><div class=\"dni-plaintext\">14</div></i></td><td><div class=\"dni-plaintext\">5.8</div></td><td><div class=\"dni-plaintext\">4</div></td><td><div class=\"dni-plaintext\">1.2</div></td><td><div class=\"dni-plaintext\">0.2</div></td><td>Iris-setosa</td></tr><tr style=\"display: none\"><td><i><div class=\"dni-plaintext\">15</div></i></td><td><div class=\"dni-plaintext\">5.7</div></td><td><div class=\"dni-plaintext\">4.4</div></td><td><div class=\"dni-plaintext\">1.5</div></td><td><div class=\"dni-plaintext\">0.4</div></td><td>Iris-setosa</td></tr><tr style=\"display: none\"><td><i><div class=\"dni-plaintext\">16</div></i></td><td><div class=\"dni-plaintext\">5.4</div></td><td><div class=\"dni-plaintext\">3.9</div></td><td><div class=\"dni-plaintext\">1.3</div></td><td><div class=\"dni-plaintext\">0.4</div></td><td>Iris-setosa</td></tr><tr style=\"display: none\"><td><i><div class=\"dni-plaintext\">17</div></i></td><td><div class=\"dni-plaintext\">5.1</div></td><td><div class=\"dni-plaintext\">3.5</div></td><td><div class=\"dni-plaintext\">1.4</div></td><td><div class=\"dni-plaintext\">0.3</div></td><td>Iris-setosa</td></tr><tr style=\"display: none\"><td><i><div class=\"dni-plaintext\">18</div></i></td><td><div class=\"dni-plaintext\">5.7</div></td><td><div class=\"dni-plaintext\">3.8</div></td><td><div class=\"dni-plaintext\">1.7</div></td><td><div class=\"dni-plaintext\">0.3</div></td><td>Iris-setosa</td></tr><tr style=\"display: none\"><td><i><div class=\"dni-plaintext\">19</div></i></td><td><div class=\"dni-plaintext\">5.1</div></td><td><div class=\"dni-plaintext\">3.8</div></td><td><div class=\"dni-plaintext\">1.5</div></td><td><div class=\"dni-plaintext\">0.3</div></td><td>Iris-setosa</td></tr><tr style=\"display: none\"><td><i><div class=\"dni-plaintext\">20</div></i></td><td><div class=\"dni-plaintext\">5.4</div></td><td><div class=\"dni-plaintext\">3.4</div></td><td><div class=\"dni-plaintext\">1.7</div></td><td><div class=\"dni-plaintext\">0.2</div></td><td>Iris-setosa</td></tr><tr style=\"display: none\"><td><i><div class=\"dni-plaintext\">21</div></i></td><td><div class=\"dni-plaintext\">5.1</div></td><td><div class=\"dni-plaintext\">3.7</div></td><td><div class=\"dni-plaintext\">1.5</div></td><td><div class=\"dni-plaintext\">0.4</div></td><td>Iris-setosa</td></tr><tr style=\"display: none\"><td><i><div class=\"dni-plaintext\">22</div></i></td><td><div class=\"dni-plaintext\">4.6</div></td><td><div class=\"dni-plaintext\">3.6</div></td><td><div class=\"dni-plaintext\">1</div></td><td><div class=\"dni-plaintext\">0.2</div></td><td>Iris-setosa</td></tr><tr style=\"display: none\"><td><i><div class=\"dni-plaintext\">23</div></i></td><td><div class=\"dni-plaintext\">5.1</div></td><td><div class=\"dni-plaintext\">3.3</div></td><td><div class=\"dni-plaintext\">1.7</div></td><td><div class=\"dni-plaintext\">0.5</div></td><td>Iris-setosa</td></tr><tr style=\"display: none\"><td><i><div class=\"dni-plaintext\">24</div></i></td><td><div class=\"dni-plaintext\">4.8</div></td><td><div class=\"dni-plaintext\">3.4</div></td><td><div class=\"dni-plaintext\">1.9</div></td><td><div class=\"dni-plaintext\">0.2</div></td><td>Iris-setosa</td></tr><tr style=\"display: none\"><td><i><div class=\"dni-plaintext\">25</div></i></td><td><div class=\"dni-plaintext\">5</div></td><td><div class=\"dni-plaintext\">3</div></td><td><div class=\"dni-plaintext\">1.6</div></td><td><div class=\"dni-plaintext\">0.2</div></td><td>Iris-setosa</td></tr><tr style=\"display: none\"><td><i><div class=\"dni-plaintext\">26</div></i></td><td><div class=\"dni-plaintext\">5</div></td><td><div class=\"dni-plaintext\">3.4</div></td><td><div class=\"dni-plaintext\">1.6</div></td><td><div class=\"dni-plaintext\">0.4</div></td><td>Iris-setosa</td></tr><tr style=\"display: none\"><td><i><div class=\"dni-plaintext\">27</div></i></td><td><div class=\"dni-plaintext\">5.2</div></td><td><div class=\"dni-plaintext\">3.5</div></td><td><div class=\"dni-plaintext\">1.5</div></td><td><div class=\"dni-plaintext\">0.2</div></td><td>Iris-setosa</td></tr><tr style=\"display: none\"><td><i><div class=\"dni-plaintext\">28</div></i></td><td><div class=\"dni-plaintext\">5.2</div></td><td><div class=\"dni-plaintext\">3.4</div></td><td><div class=\"dni-plaintext\">1.4</div></td><td><div class=\"dni-plaintext\">0.2</div></td><td>Iris-setosa</td></tr><tr style=\"display: none\"><td><i><div class=\"dni-plaintext\">29</div></i></td><td><div class=\"dni-plaintext\">4.7</div></td><td><div class=\"dni-plaintext\">3.2</div></td><td><div class=\"dni-plaintext\">1.6</div></td><td><div class=\"dni-plaintext\">0.2</div></td><td>Iris-setosa</td></tr><tr style=\"display: none\"><td><i><div class=\"dni-plaintext\">30</div></i></td><td><div class=\"dni-plaintext\">4.8</div></td><td><div class=\"dni-plaintext\">3.1</div></td><td><div class=\"dni-plaintext\">1.6</div></td><td><div class=\"dni-plaintext\">0.2</div></td><td>Iris-setosa</td></tr><tr style=\"display: none\"><td><i><div class=\"dni-plaintext\">31</div></i></td><td><div class=\"dni-plaintext\">5.4</div></td><td><div class=\"dni-plaintext\">3.4</div></td><td><div class=\"dni-plaintext\">1.5</div></td><td><div class=\"dni-plaintext\">0.4</div></td><td>Iris-setosa</td></tr><tr style=\"display: none\"><td><i><div class=\"dni-plaintext\">32</div></i></td><td><div class=\"dni-plaintext\">5.2</div></td><td><div class=\"dni-plaintext\">4.1</div></td><td><div class=\"dni-plaintext\">1.5</div></td><td><div class=\"dni-plaintext\">0.1</div></td><td>Iris-setosa</td></tr><tr style=\"display: none\"><td><i><div class=\"dni-plaintext\">33</div></i></td><td><div class=\"dni-plaintext\">5.5</div></td><td><div class=\"dni-plaintext\">4.2</div></td><td><div class=\"dni-plaintext\">1.4</div></td><td><div class=\"dni-plaintext\">0.2</div></td><td>Iris-setosa</td></tr><tr style=\"display: none\"><td><i><div class=\"dni-plaintext\">34</div></i></td><td><div class=\"dni-plaintext\">4.9</div></td><td><div class=\"dni-plaintext\">3.1</div></td><td><div class=\"dni-plaintext\">1.5</div></td><td><div class=\"dni-plaintext\">0.1</div></td><td>Iris-setosa</td></tr><tr style=\"display: none\"><td><i><div class=\"dni-plaintext\">35</div></i></td><td><div class=\"dni-plaintext\">5</div></td><td><div class=\"dni-plaintext\">3.2</div></td><td><div class=\"dni-plaintext\">1.2</div></td><td><div class=\"dni-plaintext\">0.2</div></td><td>Iris-setosa</td></tr><tr style=\"display: none\"><td><i><div class=\"dni-plaintext\">36</div></i></td><td><div class=\"dni-plaintext\">5.5</div></td><td><div class=\"dni-plaintext\">3.5</div></td><td><div class=\"dni-plaintext\">1.3</div></td><td><div class=\"dni-plaintext\">0.2</div></td><td>Iris-setosa</td></tr><tr style=\"display: none\"><td><i><div class=\"dni-plaintext\">37</div></i></td><td><div class=\"dni-plaintext\">4.9</div></td><td><div class=\"dni-plaintext\">3.1</div></td><td><div class=\"dni-plaintext\">1.5</div></td><td><div class=\"dni-plaintext\">0.1</div></td><td>Iris-setosa</td></tr><tr style=\"display: none\"><td><i><div class=\"dni-plaintext\">38</div></i></td><td><div class=\"dni-plaintext\">4.4</div></td><td><div class=\"dni-plaintext\">3</div></td><td><div class=\"dni-plaintext\">1.3</div></td><td><div class=\"dni-plaintext\">0.2</div></td><td>Iris-setosa</td></tr><tr style=\"display: none\"><td><i><div class=\"dni-plaintext\">39</div></i></td><td><div class=\"dni-plaintext\">5.1</div></td><td><div class=\"dni-plaintext\">3.4</div></td><td><div class=\"dni-plaintext\">1.5</div></td><td><div class=\"dni-plaintext\">0.2</div></td><td>Iris-setosa</td></tr><tr style=\"display: none\"><td><i><div class=\"dni-plaintext\">40</div></i></td><td><div class=\"dni-plaintext\">5</div></td><td><div class=\"dni-plaintext\">3.5</div></td><td><div class=\"dni-plaintext\">1.3</div></td><td><div class=\"dni-plaintext\">0.3</div></td><td>Iris-setosa</td></tr><tr style=\"display: none\"><td><i><div class=\"dni-plaintext\">41</div></i></td><td><div class=\"dni-plaintext\">4.5</div></td><td><div class=\"dni-plaintext\">2.3</div></td><td><div class=\"dni-plaintext\">1.3</div></td><td><div class=\"dni-plaintext\">0.3</div></td><td>Iris-setosa</td></tr><tr style=\"display: none\"><td><i><div class=\"dni-plaintext\">42</div></i></td><td><div class=\"dni-plaintext\">4.4</div></td><td><div class=\"dni-plaintext\">3.2</div></td><td><div class=\"dni-plaintext\">1.3</div></td><td><div class=\"dni-plaintext\">0.2</div></td><td>Iris-setosa</td></tr><tr style=\"display: none\"><td><i><div class=\"dni-plaintext\">43</div></i></td><td><div class=\"dni-plaintext\">5</div></td><td><div class=\"dni-plaintext\">3.5</div></td><td><div class=\"dni-plaintext\">1.6</div></td><td><div class=\"dni-plaintext\">0.6</div></td><td>Iris-setosa</td></tr><tr style=\"display: none\"><td><i><div class=\"dni-plaintext\">44</div></i></td><td><div class=\"dni-plaintext\">5.1</div></td><td><div class=\"dni-plaintext\">3.8</div></td><td><div class=\"dni-plaintext\">1.9</div></td><td><div class=\"dni-plaintext\">0.4</div></td><td>Iris-setosa</td></tr><tr style=\"display: none\"><td><i><div class=\"dni-plaintext\">45</div></i></td><td><div class=\"dni-plaintext\">4.8</div></td><td><div class=\"dni-plaintext\">3</div></td><td><div class=\"dni-plaintext\">1.4</div></td><td><div class=\"dni-plaintext\">0.3</div></td><td>Iris-setosa</td></tr><tr style=\"display: none\"><td><i><div class=\"dni-plaintext\">46</div></i></td><td><div class=\"dni-plaintext\">5.1</div></td><td><div class=\"dni-plaintext\">3.8</div></td><td><div class=\"dni-plaintext\">1.6</div></td><td><div class=\"dni-plaintext\">0.2</div></td><td>Iris-setosa</td></tr><tr style=\"display: none\"><td><i><div class=\"dni-plaintext\">47</div></i></td><td><div class=\"dni-plaintext\">4.6</div></td><td><div class=\"dni-plaintext\">3.2</div></td><td><div class=\"dni-plaintext\">1.4</div></td><td><div class=\"dni-plaintext\">0.2</div></td><td>Iris-setosa</td></tr><tr style=\"display: none\"><td><i><div class=\"dni-plaintext\">48</div></i></td><td><div class=\"dni-plaintext\">5.3</div></td><td><div class=\"dni-plaintext\">3.7</div></td><td><div class=\"dni-plaintext\">1.5</div></td><td><div class=\"dni-plaintext\">0.2</div></td><td>Iris-setosa</td></tr><tr style=\"display: none\"><td><i><div class=\"dni-plaintext\">49</div></i></td><td><div class=\"dni-plaintext\">5</div></td><td><div class=\"dni-plaintext\">3.3</div></td><td><div class=\"dni-plaintext\">1.4</div></td><td><div class=\"dni-plaintext\">0.2</div></td><td>Iris-setosa</td></tr><tr style=\"display: none\"><td><i><div class=\"dni-plaintext\">50</div></i></td><td><div class=\"dni-plaintext\">7</div></td><td><div class=\"dni-plaintext\">3.2</div></td><td><div class=\"dni-plaintext\">4.7</div></td><td><div class=\"dni-plaintext\">1.4</div></td><td>Iris-versicolor</td></tr><tr style=\"display: none\"><td><i><div class=\"dni-plaintext\">51</div></i></td><td><div class=\"dni-plaintext\">6.4</div></td><td><div class=\"dni-plaintext\">3.2</div></td><td><div class=\"dni-plaintext\">4.5</div></td><td><div class=\"dni-plaintext\">1.5</div></td><td>Iris-versicolor</td></tr><tr style=\"display: none\"><td><i><div class=\"dni-plaintext\">52</div></i></td><td><div class=\"dni-plaintext\">6.9</div></td><td><div class=\"dni-plaintext\">3.1</div></td><td><div class=\"dni-plaintext\">4.9</div></td><td><div class=\"dni-plaintext\">1.5</div></td><td>Iris-versicolor</td></tr><tr style=\"display: none\"><td><i><div class=\"dni-plaintext\">53</div></i></td><td><div class=\"dni-plaintext\">5.5</div></td><td><div class=\"dni-plaintext\">2.3</div></td><td><div class=\"dni-plaintext\">4</div></td><td><div class=\"dni-plaintext\">1.3</div></td><td>Iris-versicolor</td></tr><tr style=\"display: none\"><td><i><div class=\"dni-plaintext\">54</div></i></td><td><div class=\"dni-plaintext\">6.5</div></td><td><div class=\"dni-plaintext\">2.8</div></td><td><div class=\"dni-plaintext\">4.6</div></td><td><div class=\"dni-plaintext\">1.5</div></td><td>Iris-versicolor</td></tr><tr style=\"display: none\"><td><i><div class=\"dni-plaintext\">55</div></i></td><td><div class=\"dni-plaintext\">5.7</div></td><td><div class=\"dni-plaintext\">2.8</div></td><td><div class=\"dni-plaintext\">4.5</div></td><td><div class=\"dni-plaintext\">1.3</div></td><td>Iris-versicolor</td></tr><tr style=\"display: none\"><td><i><div class=\"dni-plaintext\">56</div></i></td><td><div class=\"dni-plaintext\">6.3</div></td><td><div class=\"dni-plaintext\">3.3</div></td><td><div class=\"dni-plaintext\">4.7</div></td><td><div class=\"dni-plaintext\">1.6</div></td><td>Iris-versicolor</td></tr><tr style=\"display: none\"><td><i><div class=\"dni-plaintext\">57</div></i></td><td><div class=\"dni-plaintext\">4.9</div></td><td><div class=\"dni-plaintext\">2.4</div></td><td><div class=\"dni-plaintext\">3.3</div></td><td><div class=\"dni-plaintext\">1</div></td><td>Iris-versicolor</td></tr><tr style=\"display: none\"><td><i><div class=\"dni-plaintext\">58</div></i></td><td><div class=\"dni-plaintext\">6.6</div></td><td><div class=\"dni-plaintext\">2.9</div></td><td><div class=\"dni-plaintext\">4.6</div></td><td><div class=\"dni-plaintext\">1.3</div></td><td>Iris-versicolor</td></tr><tr style=\"display: none\"><td><i><div class=\"dni-plaintext\">59</div></i></td><td><div class=\"dni-plaintext\">5.2</div></td><td><div class=\"dni-plaintext\">2.7</div></td><td><div class=\"dni-plaintext\">3.9</div></td><td><div class=\"dni-plaintext\">1.4</div></td><td>Iris-versicolor</td></tr><tr style=\"display: none\"><td><i><div class=\"dni-plaintext\">60</div></i></td><td><div class=\"dni-plaintext\">5</div></td><td><div class=\"dni-plaintext\">2</div></td><td><div class=\"dni-plaintext\">3.5</div></td><td><div class=\"dni-plaintext\">1</div></td><td>Iris-versicolor</td></tr><tr style=\"display: none\"><td><i><div class=\"dni-plaintext\">61</div></i></td><td><div class=\"dni-plaintext\">5.9</div></td><td><div class=\"dni-plaintext\">3</div></td><td><div class=\"dni-plaintext\">4.2</div></td><td><div class=\"dni-plaintext\">1.5</div></td><td>Iris-versicolor</td></tr><tr style=\"display: none\"><td><i><div class=\"dni-plaintext\">62</div></i></td><td><div class=\"dni-plaintext\">6</div></td><td><div class=\"dni-plaintext\">2.2</div></td><td><div class=\"dni-plaintext\">4</div></td><td><div class=\"dni-plaintext\">1</div></td><td>Iris-versicolor</td></tr><tr style=\"display: none\"><td><i><div class=\"dni-plaintext\">63</div></i></td><td><div class=\"dni-plaintext\">6.1</div></td><td><div class=\"dni-plaintext\">2.9</div></td><td><div class=\"dni-plaintext\">4.7</div></td><td><div class=\"dni-plaintext\">1.4</div></td><td>Iris-versicolor</td></tr><tr style=\"display: none\"><td><i><div class=\"dni-plaintext\">64</div></i></td><td><div class=\"dni-plaintext\">5.6</div></td><td><div class=\"dni-plaintext\">2.9</div></td><td><div class=\"dni-plaintext\">3.6</div></td><td><div class=\"dni-plaintext\">1.3</div></td><td>Iris-versicolor</td></tr><tr style=\"display: none\"><td><i><div class=\"dni-plaintext\">65</div></i></td><td><div class=\"dni-plaintext\">6.7</div></td><td><div class=\"dni-plaintext\">3.1</div></td><td><div class=\"dni-plaintext\">4.4</div></td><td><div class=\"dni-plaintext\">1.4</div></td><td>Iris-versicolor</td></tr><tr style=\"display: none\"><td><i><div class=\"dni-plaintext\">66</div></i></td><td><div class=\"dni-plaintext\">5.6</div></td><td><div class=\"dni-plaintext\">3</div></td><td><div class=\"dni-plaintext\">4.5</div></td><td><div class=\"dni-plaintext\">1.5</div></td><td>Iris-versicolor</td></tr><tr style=\"display: none\"><td><i><div class=\"dni-plaintext\">67</div></i></td><td><div class=\"dni-plaintext\">5.8</div></td><td><div class=\"dni-plaintext\">2.7</div></td><td><div class=\"dni-plaintext\">4.1</div></td><td><div class=\"dni-plaintext\">1</div></td><td>Iris-versicolor</td></tr><tr style=\"display: none\"><td><i><div class=\"dni-plaintext\">68</div></i></td><td><div class=\"dni-plaintext\">6.2</div></td><td><div class=\"dni-plaintext\">2.2</div></td><td><div class=\"dni-plaintext\">4.5</div></td><td><div class=\"dni-plaintext\">1.5</div></td><td>Iris-versicolor</td></tr><tr style=\"display: none\"><td><i><div class=\"dni-plaintext\">69</div></i></td><td><div class=\"dni-plaintext\">5.6</div></td><td><div class=\"dni-plaintext\">2.5</div></td><td><div class=\"dni-plaintext\">3.9</div></td><td><div class=\"dni-plaintext\">1.1</div></td><td>Iris-versicolor</td></tr><tr style=\"display: none\"><td><i><div class=\"dni-plaintext\">70</div></i></td><td><div class=\"dni-plaintext\">5.9</div></td><td><div class=\"dni-plaintext\">3.2</div></td><td><div class=\"dni-plaintext\">4.8</div></td><td><div class=\"dni-plaintext\">1.8</div></td><td>Iris-versicolor</td></tr><tr style=\"display: none\"><td><i><div class=\"dni-plaintext\">71</div></i></td><td><div class=\"dni-plaintext\">6.1</div></td><td><div class=\"dni-plaintext\">2.8</div></td><td><div class=\"dni-plaintext\">4</div></td><td><div class=\"dni-plaintext\">1.3</div></td><td>Iris-versicolor</td></tr><tr style=\"display: none\"><td><i><div class=\"dni-plaintext\">72</div></i></td><td><div class=\"dni-plaintext\">6.3</div></td><td><div class=\"dni-plaintext\">2.5</div></td><td><div class=\"dni-plaintext\">4.9</div></td><td><div class=\"dni-plaintext\">1.5</div></td><td>Iris-versicolor</td></tr><tr style=\"display: none\"><td><i><div class=\"dni-plaintext\">73</div></i></td><td><div class=\"dni-plaintext\">6.1</div></td><td><div class=\"dni-plaintext\">2.8</div></td><td><div class=\"dni-plaintext\">4.7</div></td><td><div class=\"dni-plaintext\">1.2</div></td><td>Iris-versicolor</td></tr><tr style=\"display: none\"><td><i><div class=\"dni-plaintext\">74</div></i></td><td><div class=\"dni-plaintext\">6.4</div></td><td><div class=\"dni-plaintext\">2.9</div></td><td><div class=\"dni-plaintext\">4.3</div></td><td><div class=\"dni-plaintext\">1.3</div></td><td>Iris-versicolor</td></tr><tr style=\"display: none\"><td><i><div class=\"dni-plaintext\">75</div></i></td><td><div class=\"dni-plaintext\">6.6</div></td><td><div class=\"dni-plaintext\">3</div></td><td><div class=\"dni-plaintext\">4.4</div></td><td><div class=\"dni-plaintext\">1.4</div></td><td>Iris-versicolor</td></tr><tr style=\"display: none\"><td><i><div class=\"dni-plaintext\">76</div></i></td><td><div class=\"dni-plaintext\">6.8</div></td><td><div class=\"dni-plaintext\">2.8</div></td><td><div class=\"dni-plaintext\">4.8</div></td><td><div class=\"dni-plaintext\">1.4</div></td><td>Iris-versicolor</td></tr><tr style=\"display: none\"><td><i><div class=\"dni-plaintext\">77</div></i></td><td><div class=\"dni-plaintext\">6.7</div></td><td><div class=\"dni-plaintext\">3</div></td><td><div class=\"dni-plaintext\">5</div></td><td><div class=\"dni-plaintext\">1.7</div></td><td>Iris-versicolor</td></tr><tr style=\"display: none\"><td><i><div class=\"dni-plaintext\">78</div></i></td><td><div class=\"dni-plaintext\">6</div></td><td><div class=\"dni-plaintext\">2.9</div></td><td><div class=\"dni-plaintext\">4.5</div></td><td><div class=\"dni-plaintext\">1.5</div></td><td>Iris-versicolor</td></tr><tr style=\"display: none\"><td><i><div class=\"dni-plaintext\">79</div></i></td><td><div class=\"dni-plaintext\">5.7</div></td><td><div class=\"dni-plaintext\">2.6</div></td><td><div class=\"dni-plaintext\">3.5</div></td><td><div class=\"dni-plaintext\">1</div></td><td>Iris-versicolor</td></tr><tr style=\"display: none\"><td><i><div class=\"dni-plaintext\">80</div></i></td><td><div class=\"dni-plaintext\">5.5</div></td><td><div class=\"dni-plaintext\">2.4</div></td><td><div class=\"dni-plaintext\">3.8</div></td><td><div class=\"dni-plaintext\">1.1</div></td><td>Iris-versicolor</td></tr><tr style=\"display: none\"><td><i><div class=\"dni-plaintext\">81</div></i></td><td><div class=\"dni-plaintext\">5.5</div></td><td><div class=\"dni-plaintext\">2.4</div></td><td><div class=\"dni-plaintext\">3.7</div></td><td><div class=\"dni-plaintext\">1</div></td><td>Iris-versicolor</td></tr><tr style=\"display: none\"><td><i><div class=\"dni-plaintext\">82</div></i></td><td><div class=\"dni-plaintext\">5.8</div></td><td><div class=\"dni-plaintext\">2.7</div></td><td><div class=\"dni-plaintext\">3.9</div></td><td><div class=\"dni-plaintext\">1.2</div></td><td>Iris-versicolor</td></tr><tr style=\"display: none\"><td><i><div class=\"dni-plaintext\">83</div></i></td><td><div class=\"dni-plaintext\">6</div></td><td><div class=\"dni-plaintext\">2.7</div></td><td><div class=\"dni-plaintext\">5.1</div></td><td><div class=\"dni-plaintext\">1.6</div></td><td>Iris-versicolor</td></tr><tr style=\"display: none\"><td><i><div class=\"dni-plaintext\">84</div></i></td><td><div class=\"dni-plaintext\">5.4</div></td><td><div class=\"dni-plaintext\">3</div></td><td><div class=\"dni-plaintext\">4.5</div></td><td><div class=\"dni-plaintext\">1.5</div></td><td>Iris-versicolor</td></tr><tr style=\"display: none\"><td><i><div class=\"dni-plaintext\">85</div></i></td><td><div class=\"dni-plaintext\">6</div></td><td><div class=\"dni-plaintext\">3.4</div></td><td><div class=\"dni-plaintext\">4.5</div></td><td><div class=\"dni-plaintext\">1.6</div></td><td>Iris-versicolor</td></tr><tr style=\"display: none\"><td><i><div class=\"dni-plaintext\">86</div></i></td><td><div class=\"dni-plaintext\">6.7</div></td><td><div class=\"dni-plaintext\">3.1</div></td><td><div class=\"dni-plaintext\">4.7</div></td><td><div class=\"dni-plaintext\">1.5</div></td><td>Iris-versicolor</td></tr><tr style=\"display: none\"><td><i><div class=\"dni-plaintext\">87</div></i></td><td><div class=\"dni-plaintext\">6.3</div></td><td><div class=\"dni-plaintext\">2.3</div></td><td><div class=\"dni-plaintext\">4.4</div></td><td><div class=\"dni-plaintext\">1.3</div></td><td>Iris-versicolor</td></tr><tr style=\"display: none\"><td><i><div class=\"dni-plaintext\">88</div></i></td><td><div class=\"dni-plaintext\">5.6</div></td><td><div class=\"dni-plaintext\">3</div></td><td><div class=\"dni-plaintext\">4.1</div></td><td><div class=\"dni-plaintext\">1.3</div></td><td>Iris-versicolor</td></tr><tr style=\"display: none\"><td><i><div class=\"dni-plaintext\">89</div></i></td><td><div class=\"dni-plaintext\">5.5</div></td><td><div class=\"dni-plaintext\">2.5</div></td><td><div class=\"dni-plaintext\">4</div></td><td><div class=\"dni-plaintext\">1.3</div></td><td>Iris-versicolor</td></tr><tr style=\"display: none\"><td><i><div class=\"dni-plaintext\">90</div></i></td><td><div class=\"dni-plaintext\">5.5</div></td><td><div class=\"dni-plaintext\">2.6</div></td><td><div class=\"dni-plaintext\">4.4</div></td><td><div class=\"dni-plaintext\">1.2</div></td><td>Iris-versicolor</td></tr><tr style=\"display: none\"><td><i><div class=\"dni-plaintext\">91</div></i></td><td><div class=\"dni-plaintext\">6.1</div></td><td><div class=\"dni-plaintext\">3</div></td><td><div class=\"dni-plaintext\">4.6</div></td><td><div class=\"dni-plaintext\">1.4</div></td><td>Iris-versicolor</td></tr><tr style=\"display: none\"><td><i><div class=\"dni-plaintext\">92</div></i></td><td><div class=\"dni-plaintext\">5.8</div></td><td><div class=\"dni-plaintext\">2.6</div></td><td><div class=\"dni-plaintext\">4</div></td><td><div class=\"dni-plaintext\">1.2</div></td><td>Iris-versicolor</td></tr><tr style=\"display: none\"><td><i><div class=\"dni-plaintext\">93</div></i></td><td><div class=\"dni-plaintext\">5</div></td><td><div class=\"dni-plaintext\">2.3</div></td><td><div class=\"dni-plaintext\">3.3</div></td><td><div class=\"dni-plaintext\">1</div></td><td>Iris-versicolor</td></tr><tr style=\"display: none\"><td><i><div class=\"dni-plaintext\">94</div></i></td><td><div class=\"dni-plaintext\">5.6</div></td><td><div class=\"dni-plaintext\">2.7</div></td><td><div class=\"dni-plaintext\">4.2</div></td><td><div class=\"dni-plaintext\">1.3</div></td><td>Iris-versicolor</td></tr><tr style=\"display: none\"><td><i><div class=\"dni-plaintext\">95</div></i></td><td><div class=\"dni-plaintext\">5.7</div></td><td><div class=\"dni-plaintext\">3</div></td><td><div class=\"dni-plaintext\">4.2</div></td><td><div class=\"dni-plaintext\">1.2</div></td><td>Iris-versicolor</td></tr><tr style=\"display: none\"><td><i><div class=\"dni-plaintext\">96</div></i></td><td><div class=\"dni-plaintext\">5.7</div></td><td><div class=\"dni-plaintext\">2.9</div></td><td><div class=\"dni-plaintext\">4.2</div></td><td><div class=\"dni-plaintext\">1.3</div></td><td>Iris-versicolor</td></tr><tr style=\"display: none\"><td><i><div class=\"dni-plaintext\">97</div></i></td><td><div class=\"dni-plaintext\">6.2</div></td><td><div class=\"dni-plaintext\">2.9</div></td><td><div class=\"dni-plaintext\">4.3</div></td><td><div class=\"dni-plaintext\">1.3</div></td><td>Iris-versicolor</td></tr><tr style=\"display: none\"><td><i><div class=\"dni-plaintext\">98</div></i></td><td><div class=\"dni-plaintext\">5.1</div></td><td><div class=\"dni-plaintext\">2.5</div></td><td><div class=\"dni-plaintext\">3</div></td><td><div class=\"dni-plaintext\">1.1</div></td><td>Iris-versicolor</td></tr><tr style=\"display: none\"><td><i><div class=\"dni-plaintext\">99</div></i></td><td><div class=\"dni-plaintext\">5.7</div></td><td><div class=\"dni-plaintext\">2.8</div></td><td><div class=\"dni-plaintext\">4.1</div></td><td><div class=\"dni-plaintext\">1.3</div></td><td>Iris-versicolor</td></tr><tr style=\"display: none\"><td><i><div class=\"dni-plaintext\">100</div></i></td><td><div class=\"dni-plaintext\">6.3</div></td><td><div class=\"dni-plaintext\">3.3</div></td><td><div class=\"dni-plaintext\">6</div></td><td><div class=\"dni-plaintext\">2.5</div></td><td>Iris-virginica</td></tr><tr style=\"display: none\"><td><i><div class=\"dni-plaintext\">101</div></i></td><td><div class=\"dni-plaintext\">5.8</div></td><td><div class=\"dni-plaintext\">2.7</div></td><td><div class=\"dni-plaintext\">5.1</div></td><td><div class=\"dni-plaintext\">1.9</div></td><td>Iris-virginica</td></tr><tr style=\"display: none\"><td><i><div class=\"dni-plaintext\">102</div></i></td><td><div class=\"dni-plaintext\">7.1</div></td><td><div class=\"dni-plaintext\">3</div></td><td><div class=\"dni-plaintext\">5.9</div></td><td><div class=\"dni-plaintext\">2.1</div></td><td>Iris-virginica</td></tr><tr style=\"display: none\"><td><i><div class=\"dni-plaintext\">103</div></i></td><td><div class=\"dni-plaintext\">6.3</div></td><td><div class=\"dni-plaintext\">2.9</div></td><td><div class=\"dni-plaintext\">5.6</div></td><td><div class=\"dni-plaintext\">1.8</div></td><td>Iris-virginica</td></tr><tr style=\"display: none\"><td><i><div class=\"dni-plaintext\">104</div></i></td><td><div class=\"dni-plaintext\">6.5</div></td><td><div class=\"dni-plaintext\">3</div></td><td><div class=\"dni-plaintext\">5.8</div></td><td><div class=\"dni-plaintext\">2.2</div></td><td>Iris-virginica</td></tr><tr style=\"display: none\"><td><i><div class=\"dni-plaintext\">105</div></i></td><td><div class=\"dni-plaintext\">7.6</div></td><td><div class=\"dni-plaintext\">3</div></td><td><div class=\"dni-plaintext\">6.6</div></td><td><div class=\"dni-plaintext\">2.1</div></td><td>Iris-virginica</td></tr><tr style=\"display: none\"><td><i><div class=\"dni-plaintext\">106</div></i></td><td><div class=\"dni-plaintext\">4.9</div></td><td><div class=\"dni-plaintext\">2.5</div></td><td><div class=\"dni-plaintext\">4.5</div></td><td><div class=\"dni-plaintext\">1.7</div></td><td>Iris-virginica</td></tr><tr style=\"display: none\"><td><i><div class=\"dni-plaintext\">107</div></i></td><td><div class=\"dni-plaintext\">7.3</div></td><td><div class=\"dni-plaintext\">2.9</div></td><td><div class=\"dni-plaintext\">6.3</div></td><td><div class=\"dni-plaintext\">1.8</div></td><td>Iris-virginica</td></tr><tr style=\"display: none\"><td><i><div class=\"dni-plaintext\">108</div></i></td><td><div class=\"dni-plaintext\">6.7</div></td><td><div class=\"dni-plaintext\">2.5</div></td><td><div class=\"dni-plaintext\">5.8</div></td><td><div class=\"dni-plaintext\">1.8</div></td><td>Iris-virginica</td></tr><tr style=\"display: none\"><td><i><div class=\"dni-plaintext\">109</div></i></td><td><div class=\"dni-plaintext\">7.2</div></td><td><div class=\"dni-plaintext\">3.6</div></td><td><div class=\"dni-plaintext\">6.1</div></td><td><div class=\"dni-plaintext\">2.5</div></td><td>Iris-virginica</td></tr><tr style=\"display: none\"><td><i><div class=\"dni-plaintext\">110</div></i></td><td><div class=\"dni-plaintext\">6.5</div></td><td><div class=\"dni-plaintext\">3.2</div></td><td><div class=\"dni-plaintext\">5.1</div></td><td><div class=\"dni-plaintext\">2</div></td><td>Iris-virginica</td></tr><tr style=\"display: none\"><td><i><div class=\"dni-plaintext\">111</div></i></td><td><div class=\"dni-plaintext\">6.4</div></td><td><div class=\"dni-plaintext\">2.7</div></td><td><div class=\"dni-plaintext\">5.3</div></td><td><div class=\"dni-plaintext\">1.9</div></td><td>Iris-virginica</td></tr><tr style=\"display: none\"><td><i><div class=\"dni-plaintext\">112</div></i></td><td><div class=\"dni-plaintext\">6.8</div></td><td><div class=\"dni-plaintext\">3</div></td><td><div class=\"dni-plaintext\">5.5</div></td><td><div class=\"dni-plaintext\">2.1</div></td><td>Iris-virginica</td></tr><tr style=\"display: none\"><td><i><div class=\"dni-plaintext\">113</div></i></td><td><div class=\"dni-plaintext\">5.7</div></td><td><div class=\"dni-plaintext\">2.5</div></td><td><div class=\"dni-plaintext\">5</div></td><td><div class=\"dni-plaintext\">2</div></td><td>Iris-virginica</td></tr><tr style=\"display: none\"><td><i><div class=\"dni-plaintext\">114</div></i></td><td><div class=\"dni-plaintext\">5.8</div></td><td><div class=\"dni-plaintext\">2.8</div></td><td><div class=\"dni-plaintext\">5.1</div></td><td><div class=\"dni-plaintext\">2.4</div></td><td>Iris-virginica</td></tr><tr style=\"display: none\"><td><i><div class=\"dni-plaintext\">115</div></i></td><td><div class=\"dni-plaintext\">6.4</div></td><td><div class=\"dni-plaintext\">3.2</div></td><td><div class=\"dni-plaintext\">5.3</div></td><td><div class=\"dni-plaintext\">2.3</div></td><td>Iris-virginica</td></tr><tr style=\"display: none\"><td><i><div class=\"dni-plaintext\">116</div></i></td><td><div class=\"dni-plaintext\">6.5</div></td><td><div class=\"dni-plaintext\">3</div></td><td><div class=\"dni-plaintext\">5.5</div></td><td><div class=\"dni-plaintext\">1.8</div></td><td>Iris-virginica</td></tr><tr style=\"display: none\"><td><i><div class=\"dni-plaintext\">117</div></i></td><td><div class=\"dni-plaintext\">7.7</div></td><td><div class=\"dni-plaintext\">3.8</div></td><td><div class=\"dni-plaintext\">6.7</div></td><td><div class=\"dni-plaintext\">2.2</div></td><td>Iris-virginica</td></tr><tr style=\"display: none\"><td><i><div class=\"dni-plaintext\">118</div></i></td><td><div class=\"dni-plaintext\">7.7</div></td><td><div class=\"dni-plaintext\">2.6</div></td><td><div class=\"dni-plaintext\">6.9</div></td><td><div class=\"dni-plaintext\">2.3</div></td><td>Iris-virginica</td></tr><tr style=\"display: none\"><td><i><div class=\"dni-plaintext\">119</div></i></td><td><div class=\"dni-plaintext\">6</div></td><td><div class=\"dni-plaintext\">2.2</div></td><td><div class=\"dni-plaintext\">5</div></td><td><div class=\"dni-plaintext\">1.5</div></td><td>Iris-virginica</td></tr><tr style=\"display: none\"><td><i><div class=\"dni-plaintext\">120</div></i></td><td><div class=\"dni-plaintext\">6.9</div></td><td><div class=\"dni-plaintext\">3.2</div></td><td><div class=\"dni-plaintext\">5.7</div></td><td><div class=\"dni-plaintext\">2.3</div></td><td>Iris-virginica</td></tr><tr style=\"display: none\"><td><i><div class=\"dni-plaintext\">121</div></i></td><td><div class=\"dni-plaintext\">5.6</div></td><td><div class=\"dni-plaintext\">2.8</div></td><td><div class=\"dni-plaintext\">4.9</div></td><td><div class=\"dni-plaintext\">2</div></td><td>Iris-virginica</td></tr><tr style=\"display: none\"><td><i><div class=\"dni-plaintext\">122</div></i></td><td><div class=\"dni-plaintext\">7.7</div></td><td><div class=\"dni-plaintext\">2.8</div></td><td><div class=\"dni-plaintext\">6.7</div></td><td><div class=\"dni-plaintext\">2</div></td><td>Iris-virginica</td></tr><tr style=\"display: none\"><td><i><div class=\"dni-plaintext\">123</div></i></td><td><div class=\"dni-plaintext\">6.3</div></td><td><div class=\"dni-plaintext\">2.7</div></td><td><div class=\"dni-plaintext\">4.9</div></td><td><div class=\"dni-plaintext\">1.8</div></td><td>Iris-virginica</td></tr><tr style=\"display: none\"><td><i><div class=\"dni-plaintext\">124</div></i></td><td><div class=\"dni-plaintext\">6.7</div></td><td><div class=\"dni-plaintext\">3.3</div></td><td><div class=\"dni-plaintext\">5.7</div></td><td><div class=\"dni-plaintext\">2.1</div></td><td>Iris-virginica</td></tr><tr style=\"display: none\"><td><i><div class=\"dni-plaintext\">125</div></i></td><td><div class=\"dni-plaintext\">7.2</div></td><td><div class=\"dni-plaintext\">3.2</div></td><td><div class=\"dni-plaintext\">6</div></td><td><div class=\"dni-plaintext\">1.8</div></td><td>Iris-virginica</td></tr><tr style=\"display: none\"><td><i><div class=\"dni-plaintext\">126</div></i></td><td><div class=\"dni-plaintext\">6.2</div></td><td><div class=\"dni-plaintext\">2.8</div></td><td><div class=\"dni-plaintext\">4.8</div></td><td><div class=\"dni-plaintext\">1.8</div></td><td>Iris-virginica</td></tr><tr style=\"display: none\"><td><i><div class=\"dni-plaintext\">127</div></i></td><td><div class=\"dni-plaintext\">6.1</div></td><td><div class=\"dni-plaintext\">3</div></td><td><div class=\"dni-plaintext\">4.9</div></td><td><div class=\"dni-plaintext\">1.8</div></td><td>Iris-virginica</td></tr><tr style=\"display: none\"><td><i><div class=\"dni-plaintext\">128</div></i></td><td><div class=\"dni-plaintext\">6.4</div></td><td><div class=\"dni-plaintext\">2.8</div></td><td><div class=\"dni-plaintext\">5.6</div></td><td><div class=\"dni-plaintext\">2.1</div></td><td>Iris-virginica</td></tr><tr style=\"display: none\"><td><i><div class=\"dni-plaintext\">129</div></i></td><td><div class=\"dni-plaintext\">7.2</div></td><td><div class=\"dni-plaintext\">3</div></td><td><div class=\"dni-plaintext\">5.8</div></td><td><div class=\"dni-plaintext\">1.6</div></td><td>Iris-virginica</td></tr><tr style=\"display: none\"><td><i><div class=\"dni-plaintext\">130</div></i></td><td><div class=\"dni-plaintext\">7.4</div></td><td><div class=\"dni-plaintext\">2.8</div></td><td><div class=\"dni-plaintext\">6.1</div></td><td><div class=\"dni-plaintext\">1.9</div></td><td>Iris-virginica</td></tr><tr style=\"display: none\"><td><i><div class=\"dni-plaintext\">131</div></i></td><td><div class=\"dni-plaintext\">7.9</div></td><td><div class=\"dni-plaintext\">3.8</div></td><td><div class=\"dni-plaintext\">6.4</div></td><td><div class=\"dni-plaintext\">2</div></td><td>Iris-virginica</td></tr><tr style=\"display: none\"><td><i><div class=\"dni-plaintext\">132</div></i></td><td><div class=\"dni-plaintext\">6.4</div></td><td><div class=\"dni-plaintext\">2.8</div></td><td><div class=\"dni-plaintext\">5.6</div></td><td><div class=\"dni-plaintext\">2.2</div></td><td>Iris-virginica</td></tr><tr style=\"display: none\"><td><i><div class=\"dni-plaintext\">133</div></i></td><td><div class=\"dni-plaintext\">6.3</div></td><td><div class=\"dni-plaintext\">2.8</div></td><td><div class=\"dni-plaintext\">5.1</div></td><td><div class=\"dni-plaintext\">1.5</div></td><td>Iris-virginica</td></tr><tr style=\"display: none\"><td><i><div class=\"dni-plaintext\">134</div></i></td><td><div class=\"dni-plaintext\">6.1</div></td><td><div class=\"dni-plaintext\">2.6</div></td><td><div class=\"dni-plaintext\">5.6</div></td><td><div class=\"dni-plaintext\">1.4</div></td><td>Iris-virginica</td></tr><tr style=\"display: none\"><td><i><div class=\"dni-plaintext\">135</div></i></td><td><div class=\"dni-plaintext\">7.7</div></td><td><div class=\"dni-plaintext\">3</div></td><td><div class=\"dni-plaintext\">6.1</div></td><td><div class=\"dni-plaintext\">2.3</div></td><td>Iris-virginica</td></tr><tr style=\"display: none\"><td><i><div class=\"dni-plaintext\">136</div></i></td><td><div class=\"dni-plaintext\">6.3</div></td><td><div class=\"dni-plaintext\">3.4</div></td><td><div class=\"dni-plaintext\">5.6</div></td><td><div class=\"dni-plaintext\">2.4</div></td><td>Iris-virginica</td></tr><tr style=\"display: none\"><td><i><div class=\"dni-plaintext\">137</div></i></td><td><div class=\"dni-plaintext\">6.4</div></td><td><div class=\"dni-plaintext\">3.1</div></td><td><div class=\"dni-plaintext\">5.5</div></td><td><div class=\"dni-plaintext\">1.8</div></td><td>Iris-virginica</td></tr><tr style=\"display: none\"><td><i><div class=\"dni-plaintext\">138</div></i></td><td><div class=\"dni-plaintext\">6</div></td><td><div class=\"dni-plaintext\">3</div></td><td><div class=\"dni-plaintext\">4.8</div></td><td><div class=\"dni-plaintext\">1.8</div></td><td>Iris-virginica</td></tr><tr style=\"display: none\"><td><i><div class=\"dni-plaintext\">139</div></i></td><td><div class=\"dni-plaintext\">6.9</div></td><td><div class=\"dni-plaintext\">3.1</div></td><td><div class=\"dni-plaintext\">5.4</div></td><td><div class=\"dni-plaintext\">2.1</div></td><td>Iris-virginica</td></tr><tr style=\"display: none\"><td><i><div class=\"dni-plaintext\">140</div></i></td><td><div class=\"dni-plaintext\">6.7</div></td><td><div class=\"dni-plaintext\">3.1</div></td><td><div class=\"dni-plaintext\">5.6</div></td><td><div class=\"dni-plaintext\">2.4</div></td><td>Iris-virginica</td></tr><tr style=\"display: none\"><td><i><div class=\"dni-plaintext\">141</div></i></td><td><div class=\"dni-plaintext\">6.9</div></td><td><div class=\"dni-plaintext\">3.1</div></td><td><div class=\"dni-plaintext\">5.1</div></td><td><div class=\"dni-plaintext\">2.3</div></td><td>Iris-virginica</td></tr><tr style=\"display: none\"><td><i><div class=\"dni-plaintext\">142</div></i></td><td><div class=\"dni-plaintext\">5.8</div></td><td><div class=\"dni-plaintext\">2.7</div></td><td><div class=\"dni-plaintext\">5.1</div></td><td><div class=\"dni-plaintext\">1.9</div></td><td>Iris-virginica</td></tr><tr style=\"display: none\"><td><i><div class=\"dni-plaintext\">143</div></i></td><td><div class=\"dni-plaintext\">6.8</div></td><td><div class=\"dni-plaintext\">3.2</div></td><td><div class=\"dni-plaintext\">5.9</div></td><td><div class=\"dni-plaintext\">2.3</div></td><td>Iris-virginica</td></tr><tr style=\"display: none\"><td><i><div class=\"dni-plaintext\">144</div></i></td><td><div class=\"dni-plaintext\">6.7</div></td><td><div class=\"dni-plaintext\">3.3</div></td><td><div class=\"dni-plaintext\">5.7</div></td><td><div class=\"dni-plaintext\">2.5</div></td><td>Iris-virginica</td></tr><tr style=\"display: none\"><td><i><div class=\"dni-plaintext\">145</div></i></td><td><div class=\"dni-plaintext\">6.7</div></td><td><div class=\"dni-plaintext\">3</div></td><td><div class=\"dni-plaintext\">5.2</div></td><td><div class=\"dni-plaintext\">2.3</div></td><td>Iris-virginica</td></tr><tr style=\"display: none\"><td><i><div class=\"dni-plaintext\">146</div></i></td><td><div class=\"dni-plaintext\">6.3</div></td><td><div class=\"dni-plaintext\">2.5</div></td><td><div class=\"dni-plaintext\">5</div></td><td><div class=\"dni-plaintext\">1.9</div></td><td>Iris-virginica</td></tr><tr style=\"display: none\"><td><i><div class=\"dni-plaintext\">147</div></i></td><td><div class=\"dni-plaintext\">6.5</div></td><td><div class=\"dni-plaintext\">3</div></td><td><div class=\"dni-plaintext\">5.2</div></td><td><div class=\"dni-plaintext\">2</div></td><td>Iris-virginica</td></tr><tr style=\"display: none\"><td><i><div class=\"dni-plaintext\">148</div></i></td><td><div class=\"dni-plaintext\">6.2</div></td><td><div class=\"dni-plaintext\">3.4</div></td><td><div class=\"dni-plaintext\">5.4</div></td><td><div class=\"dni-plaintext\">2.3</div></td><td>Iris-virginica</td></tr><tr style=\"display: none\"><td><i><div class=\"dni-plaintext\">149</div></i></td><td><div class=\"dni-plaintext\">5.9</div></td><td><div class=\"dni-plaintext\">3</div></td><td><div class=\"dni-plaintext\">5.1</div></td><td><div class=\"dni-plaintext\">1.8</div></td><td>Iris-virginica</td></tr></tbody><tfoot><tr><td colspan=\"6\" style=\"text-align: center;\"><button style=\"margin: 2px;\" onclick=\"var allRows = document.querySelectorAll(&#39;#table_637851922807279307 tbody tr:nth-child(n)&#39;); for (let i = 0; i &lt; allRows.length; i++) { allRows[i].style.display=&#39;none&#39;; } document.querySelector(&#39;#page_637851922807279307&#39;).innerHTML = 1; var page = parseInt(document.querySelector(&#39;#page_637851922807279307&#39;).innerHTML) - 1; var pageRows = document.querySelectorAll(`#table_637851922807279307 tbody tr:nth-child(n + ${page * 25 + 1 })`); for (let j = 0; j &lt; 25; j++) { pageRows[j].style.display=&#39;table-row&#39;; } \">⏮</button><button style=\"margin: 2px;\" onclick=\"var allRows = document.querySelectorAll(&#39;#table_637851922807279307 tbody tr:nth-child(n)&#39;); for (let i = 0; i &lt; allRows.length; i++) { allRows[i].style.display=&#39;none&#39;; } var page = parseInt(document.querySelector(&#39;#page_637851922807279307&#39;).innerHTML) - 1; page = parseInt(page) + parseInt(-10); page = page &lt; 0 ? 0 : page; page = page > 5 ? 5 : page; document.querySelector(&#39;#page_637851922807279307&#39;).innerHTML = page + 1; var page = parseInt(document.querySelector(&#39;#page_637851922807279307&#39;).innerHTML) - 1; var pageRows = document.querySelectorAll(`#table_637851922807279307 tbody tr:nth-child(n + ${page * 25 + 1 })`); for (let j = 0; j &lt; 25; j++) { pageRows[j].style.display=&#39;table-row&#39;; } \">⏪</button><button style=\"margin: 2px;\" onclick=\"var allRows = document.querySelectorAll(&#39;#table_637851922807279307 tbody tr:nth-child(n)&#39;); for (let i = 0; i &lt; allRows.length; i++) { allRows[i].style.display=&#39;none&#39;; } var page = parseInt(document.querySelector(&#39;#page_637851922807279307&#39;).innerHTML) - 1; page = parseInt(page) + parseInt(-1); page = page &lt; 0 ? 0 : page; page = page > 5 ? 5 : page; document.querySelector(&#39;#page_637851922807279307&#39;).innerHTML = page + 1; var page = parseInt(document.querySelector(&#39;#page_637851922807279307&#39;).innerHTML) - 1; var pageRows = document.querySelectorAll(`#table_637851922807279307 tbody tr:nth-child(n + ${page * 25 + 1 })`); for (let j = 0; j &lt; 25; j++) { pageRows[j].style.display=&#39;table-row&#39;; } \">◀️</button><b style=\"margin: 2px;\">Page</b><b id=\"page_637851922807279307\" style=\"margin: 2px;\">1</b><button style=\"margin: 2px;\" onclick=\"var allRows = document.querySelectorAll(&#39;#table_637851922807279307 tbody tr:nth-child(n)&#39;); for (let i = 0; i &lt; allRows.length; i++) { allRows[i].style.display=&#39;none&#39;; } var page = parseInt(document.querySelector(&#39;#page_637851922807279307&#39;).innerHTML) - 1; page = parseInt(page) + parseInt(1); page = page &lt; 0 ? 0 : page; page = page > 5 ? 5 : page; document.querySelector(&#39;#page_637851922807279307&#39;).innerHTML = page + 1; var page = parseInt(document.querySelector(&#39;#page_637851922807279307&#39;).innerHTML) - 1; var pageRows = document.querySelectorAll(`#table_637851922807279307 tbody tr:nth-child(n + ${page * 25 + 1 })`); for (let j = 0; j &lt; 25; j++) { pageRows[j].style.display=&#39;table-row&#39;; } \">▶️</button><button style=\"margin: 2px;\" onclick=\"var allRows = document.querySelectorAll(&#39;#table_637851922807279307 tbody tr:nth-child(n)&#39;); for (let i = 0; i &lt; allRows.length; i++) { allRows[i].style.display=&#39;none&#39;; } var page = parseInt(document.querySelector(&#39;#page_637851922807279307&#39;).innerHTML) - 1; page = parseInt(page) + parseInt(10); page = page &lt; 0 ? 0 : page; page = page > 5 ? 5 : page; document.querySelector(&#39;#page_637851922807279307&#39;).innerHTML = page + 1; var page = parseInt(document.querySelector(&#39;#page_637851922807279307&#39;).innerHTML) - 1; var pageRows = document.querySelectorAll(`#table_637851922807279307 tbody tr:nth-child(n + ${page * 25 + 1 })`); for (let j = 0; j &lt; 25; j++) { pageRows[j].style.display=&#39;table-row&#39;; } \">⏩</button><button style=\"margin: 2px;\" onclick=\"var allRows = document.querySelectorAll(&#39;#table_637851922807279307 tbody tr:nth-child(n)&#39;); for (let i = 0; i &lt; allRows.length; i++) { allRows[i].style.display=&#39;none&#39;; } document.querySelector(&#39;#page_637851922807279307&#39;).innerHTML = 6; var page = parseInt(document.querySelector(&#39;#page_637851922807279307&#39;).innerHTML) - 1; var pageRows = document.querySelectorAll(`#table_637851922807279307 tbody tr:nth-child(n + ${page * 25 + 1 })`); for (let j = 0; j &lt; 25; j++) { pageRows[j].style.display=&#39;table-row&#39;; } \">⏭️</button></td></tr></tfoot></table><script>var page = parseInt(document.querySelector('#page_637851922807279307').innerHTML) - 1; var pageRows = document.querySelectorAll(`#table_637851922807279307 tbody tr:nth-child(n + ${page * 25 + 1 })`); for (let j = 0; j < 25; j++) { pageRows[j].style.display='table-row'; } </script>"
      ]
     },
     "execution_count": 7,
     "metadata": {},
     "output_type": "execute_result"
    }
   ],
   "source": [
    "// Zobrazení dat\n",
    "df"
   ]
  },
  {
   "cell_type": "code",
   "execution_count": 8,
   "id": "1f002eac-5c34-4dc7-aec6-2814510a8612",
   "metadata": {},
   "outputs": [
    {
     "data": {
      "text/html": [
       "<table id=\"table_637851922808836565\"><thead><tr><th><i>index</i></th><th>Info</th><th>SepalLengthCm</th><th>SepalWidthCm</th><th>PetalLengthCm</th><th>PetalWidthCm</th><th>Species</th></tr></thead><tbody><tr><td><i><div class=\"dni-plaintext\">0</div></i></td><td>DataType</td><td>System.Single</td><td>System.Single</td><td>System.Single</td><td>System.Single</td><td>System.String</td></tr><tr><td><i><div class=\"dni-plaintext\">1</div></i></td><td>Length (excluding null values)</td><td>150</td><td>150</td><td>150</td><td>150</td><td>150</td></tr></tbody></table>"
      ]
     },
     "execution_count": 8,
     "metadata": {},
     "output_type": "execute_result"
    }
   ],
   "source": [
    "// Typ dat každého sloupce a počet položek ve sloupci\n",
    "df.Info()"
   ]
  },
  {
   "cell_type": "code",
   "execution_count": 9,
   "id": "57d8aeb1-ce61-445e-81de-99c323cf800f",
   "metadata": {},
   "outputs": [
    {
     "data": {
      "text/html": [
       "<table id=\"table_637851922809340153\"><thead><tr><th><i>index</i></th><th>Description</th><th>SepalLengthCm</th><th>SepalWidthCm</th><th>PetalLengthCm</th><th>PetalWidthCm</th></tr></thead><tbody><tr><td><i><div class=\"dni-plaintext\">0</div></i></td><td>Length (excluding null values)</td><td><div class=\"dni-plaintext\">150</div></td><td><div class=\"dni-plaintext\">150</div></td><td><div class=\"dni-plaintext\">150</div></td><td><div class=\"dni-plaintext\">150</div></td></tr><tr><td><i><div class=\"dni-plaintext\">1</div></i></td><td>Max</td><td><div class=\"dni-plaintext\">7.9</div></td><td><div class=\"dni-plaintext\">4.4</div></td><td><div class=\"dni-plaintext\">6.9</div></td><td><div class=\"dni-plaintext\">2.5</div></td></tr><tr><td><i><div class=\"dni-plaintext\">2</div></i></td><td>Min</td><td><div class=\"dni-plaintext\">4.3</div></td><td><div class=\"dni-plaintext\">2</div></td><td><div class=\"dni-plaintext\">1</div></td><td><div class=\"dni-plaintext\">0.1</div></td></tr><tr><td><i><div class=\"dni-plaintext\">3</div></i></td><td>Mean</td><td><div class=\"dni-plaintext\">5.8433347</div></td><td><div class=\"dni-plaintext\">3.054</div></td><td><div class=\"dni-plaintext\">3.7586665</div></td><td><div class=\"dni-plaintext\">1.1986669</div></td></tr></tbody></table>"
      ]
     },
     "execution_count": 9,
     "metadata": {},
     "output_type": "execute_result"
    }
   ],
   "source": [
    "// Základní popis dat\n",
    "df.Description()"
   ]
  },
  {
   "cell_type": "code",
   "execution_count": 10,
   "id": "ef080051-7ab8-452f-aae1-4d683e63a402",
   "metadata": {},
   "outputs": [
    {
     "data": {
      "text/html": [
       "<table><thead><tr><th><i>index</i></th><th><i>type</i></th><th>value</th></tr></thead><tbody><tr><td>0</td><td><span><a href=\"https://docs.microsoft.com/dotnet/api/microsoft.data.analysis.singledataframecolumn?view=net-5.0\">Microsoft.Data.Analysis.SingleDataFrameColumn</a></span></td><td><div class=\"dni-plaintext\">[ 5.1, 4.9, 4.7, 4.6, 5, 5.4, 4.6, 5, 4.4, 4.9, 5.4, 4.8, 4.8, 4.3, 5.8, 5.7, 5.4, 5.1, 5.7, 5.1 ... (more) ]</div></td></tr><tr><td>1</td><td><span><a href=\"https://docs.microsoft.com/dotnet/api/microsoft.data.analysis.singledataframecolumn?view=net-5.0\">Microsoft.Data.Analysis.SingleDataFrameColumn</a></span></td><td><div class=\"dni-plaintext\">[ 3.5, 3, 3.2, 3.1, 3.6, 3.9, 3.4, 3.4, 2.9, 3.1, 3.7, 3.4, 3, 3, 4, 4.4, 3.9, 3.5, 3.8, 3.8 ... (more) ]</div></td></tr><tr><td>2</td><td><span><a href=\"https://docs.microsoft.com/dotnet/api/microsoft.data.analysis.singledataframecolumn?view=net-5.0\">Microsoft.Data.Analysis.SingleDataFrameColumn</a></span></td><td><div class=\"dni-plaintext\">[ 1.4, 1.4, 1.3, 1.5, 1.4, 1.7, 1.4, 1.5, 1.4, 1.5, 1.5, 1.6, 1.4, 1.1, 1.2, 1.5, 1.3, 1.4, 1.7, 1.5 ... (more) ]</div></td></tr><tr><td>3</td><td><span><a href=\"https://docs.microsoft.com/dotnet/api/microsoft.data.analysis.singledataframecolumn?view=net-5.0\">Microsoft.Data.Analysis.SingleDataFrameColumn</a></span></td><td><div class=\"dni-plaintext\">[ 0.2, 0.2, 0.2, 0.2, 0.2, 0.4, 0.3, 0.2, 0.2, 0.1, 0.2, 0.2, 0.1, 0.1, 0.2, 0.4, 0.4, 0.3, 0.3, 0.3 ... (more) ]</div></td></tr><tr><td>4</td><td><span><a href=\"https://docs.microsoft.com/dotnet/api/microsoft.data.analysis.stringdataframecolumn?view=net-5.0\">Microsoft.Data.Analysis.StringDataFrameColumn</a></span></td><td><div class=\"dni-plaintext\">[ Iris-setosa, Iris-setosa, Iris-setosa, Iris-setosa, Iris-setosa, Iris-setosa, Iris-setosa, Iris-setosa, Iris-setosa, Iris-setosa, Iris-setosa, Iris-setosa, Iris-setosa, Iris-setosa, Iris-setosa, Iris-setosa, Iris-setosa, Iris-setosa, Iris-setosa, Iris-setosa ... (more) ]</div></td></tr></tbody></table>"
      ]
     },
     "execution_count": 10,
     "metadata": {},
     "output_type": "execute_result"
    }
   ],
   "source": [
    "// Zobrazí všechny sloupce a jejich popis\n",
    "df.Columns"
   ]
  },
  {
   "cell_type": "code",
   "execution_count": 11,
   "id": "98ea1772-6441-4f4c-be9c-e160fe872a3b",
   "metadata": {},
   "outputs": [
    {
     "data": {
      "text/html": [
       "<table id=\"table_637851922811082753\"><thead><tr><th><i>index</i></th><th>Values</th><th>Counts</th></tr></thead><tbody><tr><td><i><div class=\"dni-plaintext\">0</div></i></td><td>Iris-setosa</td><td><div class=\"dni-plaintext\">50</div></td></tr><tr><td><i><div class=\"dni-plaintext\">1</div></i></td><td>Iris-versicolor</td><td><div class=\"dni-plaintext\">50</div></td></tr><tr><td><i><div class=\"dni-plaintext\">2</div></i></td><td>Iris-virginica</td><td><div class=\"dni-plaintext\">50</div></td></tr></tbody></table>"
      ]
     },
     "execution_count": 11,
     "metadata": {},
     "output_type": "execute_result"
    }
   ],
   "source": [
    "// Spočte položky v zadaném sloupci\n",
    "df.Columns[\"Species\"].ValueCounts()"
   ]
  },
  {
   "cell_type": "code",
   "execution_count": 12,
   "id": "736b3bae-71ea-47e7-bbf5-36da1a387fa9",
   "metadata": {},
   "outputs": [
    {
     "data": {
      "text/html": [
       "<table id=\"table_637851922812909621\"><thead><tr><th><i>index</i></th><th>Column name</th><th>Null Count</th></tr></thead><tbody><tr><td><i><div class=\"dni-plaintext\">0</div></i></td><td>SepalLengthCm</td><td><div class=\"dni-plaintext\">0</div></td></tr><tr><td><i><div class=\"dni-plaintext\">1</div></i></td><td>SepalWidthCm</td><td><div class=\"dni-plaintext\">0</div></td></tr><tr><td><i><div class=\"dni-plaintext\">2</div></i></td><td>PetalLengthCm</td><td><div class=\"dni-plaintext\">0</div></td></tr><tr><td><i><div class=\"dni-plaintext\">3</div></i></td><td>PetalWidthCm</td><td><div class=\"dni-plaintext\">0</div></td></tr><tr><td><i><div class=\"dni-plaintext\">4</div></i></td><td>Species</td><td><div class=\"dni-plaintext\">0</div></td></tr></tbody></table>"
      ]
     },
     "execution_count": 12,
     "metadata": {},
     "output_type": "execute_result"
    }
   ],
   "source": [
    "// Kontrola nullových hodnot v každém sloupci\n",
    "List<long> nullCount = new List<long>();\n",
    "\n",
    "for (int i = 0; i < columnNames.Count; i++)\n",
    "{\n",
    "   nullCount.Add(df.Columns[columnNames[i]].NullCount);\n",
    "}\n",
    "\n",
    "PrimitiveDataFrameColumn<long> nullCountCol = new PrimitiveDataFrameColumn<long>(\"Null Count\", nullCount);\n",
    "StringDataFrameColumn colNames = new StringDataFrameColumn(\"Column name\", columnNames);\n",
    "\n",
    "DataFrame nullCountDf = new DataFrame(colNames, nullCountCol);\n",
    "nullCountDf"
   ]
  },
  {
   "cell_type": "markdown",
   "id": "d7c629cd-c08e-4efb-813f-1e60b7f7fa23",
   "metadata": {},
   "source": [
    "<h4><center>Vizualizace dat</center></h4>\n",
    "<hr>"
   ]
  },
  {
   "cell_type": "code",
   "execution_count": 13,
   "id": "bbc2cf67-129d-4da7-a954-5b90e2b1cee4",
   "metadata": {},
   "outputs": [],
   "source": [
    "// Funkce na tvoření histogramů\n",
    "List<PlotlyChart> histogramCreator(DataFrame df, List<string> columnName)\n",
    "{\n",
    "    List<PlotlyChart> histograms = new List<PlotlyChart>();\n",
    "\n",
    "    for (int i = 0; i < columnName.Count; i++)\n",
    "    {\n",
    "        var hist = Chart.Plot(\n",
    "            new XPlot.Plotly.Histogram\n",
    "            {\n",
    "                x = df.Columns[columnName[i]]\n",
    "            }\n",
    "        );\n",
    "\n",
    "        var hist_layout = new Layout.Layout\n",
    "        {\n",
    "            title = columnName[i],\n",
    "            xaxis = new Xaxis\n",
    "            {\n",
    "                title = columnName[i]\n",
    "            },\n",
    "            yaxis = new Yaxis\n",
    "            {\n",
    "                title = \"Quantity\"\n",
    "            }\n",
    "        };\n",
    "\n",
    "        hist.WithLayout(hist_layout);\n",
    "        histograms.Add(hist);\n",
    "    }\n",
    "\n",
    "    return histograms;\n",
    "}"
   ]
  },
  {
   "cell_type": "code",
   "execution_count": 14,
   "id": "b62bc829-74b0-414a-afaa-f2b63ceb41a2",
   "metadata": {},
   "outputs": [],
   "source": [
    "// Funkce na tvoření scatter plotů\n",
    "PlotlyChart scatterCreator(DataFrame df, string columnNameX, string columnNameY)\n",
    "{\n",
    "    var scatter = Chart.Plot(\n",
    "        new Scatter\n",
    "        {\n",
    "            x = df.Columns[columnNameX],\n",
    "            y = df.Columns[columnNameY],\n",
    "            mode = \"markers\",\n",
    "            marker = new Marker\n",
    "            {\n",
    "                color = \"rgb(164, 194, 244)\", // Barva markeru\n",
    "                size = 12, // Velikost markeru\n",
    "                line = new Line // Border markeru\n",
    "                {\n",
    "                    color = \"blue\",\n",
    "                    width = 0.5\n",
    "                }\n",
    "            }\n",
    "        }\n",
    "    );\n",
    "\n",
    "    var scatter_layout = new Layout.Layout\n",
    "    {\n",
    "        title = columnNameX + \" and \" + columnNameY,\n",
    "        xaxis = new Xaxis\n",
    "        {\n",
    "            title = columnNameX\n",
    "        },\n",
    "        yaxis = new Yaxis\n",
    "        {\n",
    "            title = columnNameY\n",
    "        }\n",
    "    };\n",
    "\n",
    "    scatter.WithLayout(scatter_layout);\n",
    "\n",
    "    return scatter;\n",
    "}"
   ]
  },
  {
   "cell_type": "code",
   "execution_count": 15,
   "id": "4b31052f-5946-4c99-948a-f7da0e4634d5",
   "metadata": {},
   "outputs": [],
   "source": [
    "// Funkce na tvoření box plotů\n",
    "PlotlyChart BoxPlotCreator(DataFrameColumn y, string columnName)\n",
    "{\n",
    "    var boxPlot = Chart.Plot(\n",
    "        new Box\n",
    "        {\n",
    "            y = y,\n",
    "            marker = new Marker()\n",
    "            {\n",
    "                color = \"#3D9970\"\n",
    "            }\n",
    "        }\n",
    "    );\n",
    "\n",
    "    var boxPlot_layout = new Layout.Layout\n",
    "    {\n",
    "        title = columnName,\n",
    "        xaxis = new Xaxis\n",
    "        {\n",
    "            title = columnName\n",
    "        }\n",
    "    };\n",
    "\n",
    "    boxPlot.WithLayout(boxPlot_layout);\n",
    "    return boxPlot;\n",
    "}"
   ]
  },
  {
   "cell_type": "code",
   "execution_count": 16,
   "id": "c9b6884b-d0f6-4ba4-bf6b-38bfa4dd2ae4",
   "metadata": {},
   "outputs": [],
   "source": [
    "// Zobrazí všechny histogramy\n",
    "var histograms = histogramCreator(df, columnNames);\n",
    "Chart.ShowAll(histograms)"
   ]
  },
  {
   "cell_type": "code",
   "execution_count": 17,
   "id": "c5e41d76-9fe4-4b10-ab02-b73f552478a6",
   "metadata": {},
   "outputs": [],
   "source": [
    "// Zobrazí všechny scatter ploty\n",
    "var scatters = new List<PlotlyChart>();\n",
    "\n",
    "for (int i = 0; i < columnNames.Count; i++)\n",
    "{\n",
    "    for (int j = 0; j < columnNames.Count; j++)\n",
    "    {\n",
    "        if(columnNames[i] != columnNames[j])\n",
    "        {\n",
    "            scatters.Add(scatterCreator(df, columnNames[i], columnNames[j]));\n",
    "        }\n",
    "    }\n",
    "}\n",
    "Chart.ShowAll(scatters)"
   ]
  },
  {
   "cell_type": "code",
   "execution_count": 18,
   "id": "8af458cc-7929-4204-9ec4-e5539b78c921",
   "metadata": {},
   "outputs": [],
   "source": [
    "// Vizualizace pomocí box plotů\n",
    "var boxPlotList = new List<PlotlyChart>();\n",
    "for(int i = 0; i < columnNames.Count; i++)\n",
    "{\n",
    "    boxPlotList.Add(BoxPlotCreator(df.Columns[columnNames[i]], columnNames[i]));\n",
    "}\n",
    "Chart.ShowAll(boxPlotList);"
   ]
  },
  {
   "cell_type": "code",
   "execution_count": 19,
   "id": "c80855c9-bdb6-4e8f-b4d5-dfd1fb5c8f7c",
   "metadata": {},
   "outputs": [
    {
     "data": {
      "text/html": [
       "<!DOCTYPE html>\r\n",
       "<div style=\"width: 900px; height: 500px;\" id=\"f820ce7f-4c84-4cf2-9bff-f76f62703691\"></div><script type=\"text/javascript\">\r\n",
       "\n",
       "var renderPlotly = function() {\n",
       "    var xplotRequire = require.config({context:'xplot-3.0.1',paths:{plotly:'https://cdn.plot.ly/plotly-1.49.2.min'}}) || require;\n",
       "    xplotRequire(['plotly'], function(Plotly) { \r\n",
       "\n",
       "            var data = [{\"type\":\"scatter\",\"x\":[5.1,5.2,5.2,4.7,4.8,5.4,5.2,5.5,4.9,5.0,5.5,5.0,4.4,5.0,4.5,4.4,5.0,5.1,4.8,5.1,4.6,5.3,5.0,5.1,5.0,4.9,5.1,4.8,4.9,4.7,4.6,5.0,5.4,4.6,4.4,4.9,5.4,4.8,5.0,5.1,4.3,5.8,5.7,5.4,5.1,5.7,5.1,5.4,4.8,4.6],\"y\":[3.5,3.5,3.4,3.2,3.1,3.4,4.1,4.2,3.1,3.2,3.5,3.4,3.0,3.5,2.3,3.2,3.5,3.8,3.0,3.8,3.2,3.7,3.3,3.4,3.0,3.1,3.3,3.4,3.0,3.2,3.1,3.6,3.9,3.4,2.9,3.1,3.7,3.4,3.4,3.7,3.0,4.0,4.4,3.9,3.5,3.8,3.8,3.4,3.0,3.6],\"mode\":\"markers\",\"marker\":{\"size\":12,\"color\":\"rgb(164, 194, 244)\",\"line\":{\"color\":\"blue\",\"width\":0.5}},\"name\":\"Iris-setosa\"},{\"type\":\"scatter\",\"x\":[6.0,5.4,6.0,5.8,6.7,5.5,5.7,6.0,6.7,5.5,6.3,5.7,5.5,5.5,6.1,5.8,5.0,5.6,5.7,5.7,6.2,5.1,6.8,5.6,6.6,6.4,6.1,6.4,6.9,5.5,6.5,5.7,6.3,4.9,6.6,5.2,5.0,5.9,7.0,6.1,5.6,6.7,5.6,5.8,6.2,5.6,5.9,6.1,6.3,6.0],\"y\":[3.4,3.0,2.7,2.7,3.0,2.4,2.6,2.9,3.1,2.4,2.3,2.8,2.5,2.6,3.0,2.6,2.3,2.7,3.0,2.9,2.9,2.5,2.8,3.0,3.0,2.9,2.8,3.2,3.1,2.3,2.8,2.8,3.3,2.4,2.9,2.7,2.0,3.0,3.2,2.9,2.9,3.1,3.0,2.7,2.2,2.5,3.2,2.8,2.5,2.2],\"mode\":\"markers\",\"marker\":{\"size\":12,\"color\":\"red\",\"line\":{\"color\":\"orange\",\"width\":0.5}},\"name\":\"Iris-versicolor\"},{\"type\":\"scatter\",\"x\":[6.1,6.3,6.4,7.9,6.2,7.2,6.4,6.1,7.7,7.4,6.3,6.9,6.0,6.9,6.7,5.8,6.8,6.7,6.7,6.3,6.5,7.2,6.4,6.7,6.8,7.7,6.3,5.8,7.1,6.3,6.5,7.6,4.9,7.3,6.7,7.2,6.3,6.5,6.2,5.7,5.8,6.4,6.5,7.7,7.7,6.0,6.9,5.6,6.4,5.9],\"y\":[2.6,2.8,2.8,3.8,2.8,3.0,2.8,3.0,3.0,2.8,3.4,3.1,3.0,3.1,3.1,2.7,3.2,3.3,3.0,2.5,3.0,3.2,3.1,3.3,3.0,2.8,3.3,2.7,3.0,2.9,3.0,3.0,2.5,2.9,2.5,3.6,2.7,3.2,3.4,2.5,2.8,3.2,3.0,3.8,2.6,2.2,3.2,2.8,2.7,3.0],\"mode\":\"markers\",\"marker\":{\"size\":12,\"color\":\"yellow\",\"line\":{\"color\":\"orange\",\"width\":0.5}},\"name\":\"Iris-virginica\"}];\n",
       "           var layout = {\"title\":\"Sepal Length and Sepal Width in Cm\",\"xaxis\":{\"title\":\"Length\",\"_isSubplotObj\":true},\"yaxis\":{\"title\":\"Width\",\"_isSubplotObj\":true}};\n",
       "           Plotly.newPlot('f820ce7f-4c84-4cf2-9bff-f76f62703691', data, layout);\n",
       "        \r\n",
       "});\n",
       "};\r\n",
       "// ensure `require` is available globally\r\n",
       "if ((typeof(require) !==  typeof(Function)) || (typeof(require.config) !== typeof(Function))) {\r\n",
       "    let require_script = document.createElement('script');\r\n",
       "    require_script.setAttribute('src', 'https://cdnjs.cloudflare.com/ajax/libs/require.js/2.3.6/require.min.js');\r\n",
       "    require_script.setAttribute('type', 'text/javascript');\r\n",
       "    \r\n",
       "    \r\n",
       "    require_script.onload = function() {\r\n",
       "        renderPlotly();\r\n",
       "    };\r\n",
       "\r\n",
       "    document.getElementsByTagName('head')[0].appendChild(require_script);\r\n",
       "}\r\n",
       "else {\r\n",
       "    renderPlotly();\r\n",
       "}\r\n",
       "\r\n",
       "</script>\r\n"
      ]
     },
     "execution_count": 19,
     "metadata": {},
     "output_type": "execute_result"
    }
   ],
   "source": [
    "// Scatter plot\n",
    "// Vezme všechny řádky, které obsahují iris-setosu\n",
    "// A z těchto řádků vezme první sloupec\n",
    "var setosaRows = df.OrderBy(\"Species\").Rows.Where(row => row.Last().ToString() == \"Iris-setosa\");\n",
    "var setosaSepalLength = setosaRows.Select(x => x[0]).ToList();\n",
    "var setosaSepalWidth = setosaRows.Select(x => x[1]).ToList();\n",
    "\n",
    "var versicolorRows = df.OrderBy(\"Species\").Rows.Where(row => row.Last().ToString() == \"Iris-versicolor\");\n",
    "var versicolorSepalLength = versicolorRows.Select(x => x[0]).ToList();\n",
    "var versicolorSepalWidth = versicolorRows.Select(x => x[1]).ToList();\n",
    "\n",
    "var virginicaRows = df.OrderBy(\"Species\").Rows.Where(row => row.Last().ToString() == \"Iris-virginica\");\n",
    "var virginicaSepalLength = virginicaRows.Select(x => x[0]).ToList();\n",
    "var virginicaSepalWidth = virginicaRows.Select(x => x[1]).ToList();\n",
    "\n",
    "var scatterPlots = new List<Scatter>{\n",
    "    new Scatter\n",
    "    {\n",
    "        x = setosaSepalLength,\n",
    "        y = setosaSepalWidth,        \n",
    "        mode = \"markers\",\n",
    "        name = \"Iris-setosa\",\n",
    "        marker = new Marker\n",
    "        {\n",
    "            color = \"rgb(164, 194, 244)\", // Barva markeru\n",
    "            size = 12, // Velikost markeru\n",
    "            line = new Line // Border markeru\n",
    "            {\n",
    "                color = \"blue\",\n",
    "                width = 0.5\n",
    "            }\n",
    "        }\n",
    "    },\n",
    "    new Scatter\n",
    "    {\n",
    "        x = versicolorSepalLength,\n",
    "        y = versicolorSepalWidth,        \n",
    "        mode = \"markers\",\n",
    "        name = \"Iris-versicolor\",\n",
    "        marker = new Marker\n",
    "        {\n",
    "            color = \"red\", \n",
    "            size = 12, \n",
    "            line = new Line \n",
    "            {\n",
    "                color = \"orange\",\n",
    "                width = 0.5\n",
    "            }\n",
    "        }\n",
    "    },\n",
    "    new Scatter\n",
    "    {\n",
    "        x = virginicaSepalLength,\n",
    "        y = virginicaSepalWidth,        \n",
    "        mode = \"markers\",\n",
    "        name = \"Iris-virginica\",\n",
    "        marker = new Marker\n",
    "        {\n",
    "            color = \"yellow\",\n",
    "            size = 12, \n",
    "            line = new Line \n",
    "            {\n",
    "                color = \"orange\",\n",
    "                width = 0.5\n",
    "            }\n",
    "        }\n",
    "    }\n",
    "};\n",
    "\n",
    "var scatterPlots_layout = new Layout.Layout{\n",
    "    title = \"Sepal Length and Sepal Width in Cm\",\n",
    "    xaxis = new Xaxis{\n",
    "        title = \"Length\"\n",
    "    },\n",
    "    yaxis =new Yaxis{\n",
    "        title = \"Width\"\n",
    "    }\n",
    "};\n",
    "\n",
    "// Je nutné na list zavolat funkci plot a výsledek uložit do proměnné\n",
    "var scatterPlot = Chart.Plot(scatterPlots);\n",
    "scatterPlot.WithLayout(scatterPlots_layout);\n",
    "scatterPlot"
   ]
  },
  {
   "cell_type": "code",
   "execution_count": 20,
   "id": "80a14619-f103-44c8-a4be-7024ea187f2b",
   "metadata": {},
   "outputs": [
    {
     "data": {
      "text/html": [
       "<!DOCTYPE html>\r\n",
       "<div style=\"width: 900px; height: 500px;\" id=\"3de3dd0e-449c-479c-95a4-16f7007b2f7c\"></div><script type=\"text/javascript\">\r\n",
       "\n",
       "var renderPlotly = function() {\n",
       "    var xplotRequire = require.config({context:'xplot-3.0.1',paths:{plotly:'https://cdn.plot.ly/plotly-1.49.2.min'}}) || require;\n",
       "    xplotRequire(['plotly'], function(Plotly) { \r\n",
       "\n",
       "            var data = [{\"type\":\"scatter\",\"x\":[1.4,1.5,1.4,1.6,1.6,1.5,1.5,1.4,1.5,1.2,1.3,1.6,1.3,1.3,1.3,1.3,1.6,1.9,1.4,1.6,1.4,1.5,1.4,1.5,1.6,1.5,1.7,1.9,1.4,1.3,1.5,1.4,1.7,1.4,1.4,1.5,1.5,1.6,1.5,1.5,1.1,1.2,1.5,1.3,1.4,1.7,1.5,1.7,1.4,1.0],\"y\":[0.2,0.2,0.2,0.2,0.2,0.4,0.1,0.2,0.1,0.2,0.2,0.4,0.2,0.3,0.3,0.2,0.6,0.4,0.3,0.2,0.2,0.2,0.2,0.2,0.2,0.1,0.5,0.2,0.2,0.2,0.2,0.2,0.4,0.3,0.2,0.1,0.2,0.2,0.2,0.4,0.1,0.2,0.4,0.4,0.3,0.3,0.3,0.2,0.1,0.2],\"mode\":\"markers\",\"marker\":{\"size\":12,\"color\":\"rgb(164, 194, 244)\",\"line\":{\"color\":\"blue\",\"width\":0.5}},\"name\":\"Iris-setosa\"},{\"type\":\"scatter\",\"x\":[4.5,4.5,5.1,3.9,5.0,3.8,3.5,4.5,4.7,3.7,4.4,4.1,4.0,4.4,4.6,4.0,3.3,4.2,4.2,4.2,4.3,3.0,4.8,4.1,4.4,4.3,4.7,4.5,4.9,4.0,4.6,4.5,4.7,3.3,4.6,3.9,3.5,4.2,4.7,4.7,3.6,4.4,4.5,4.1,4.5,3.9,4.8,4.0,4.9,4.0],\"y\":[1.6,1.5,1.6,1.2,1.7,1.1,1.0,1.5,1.5,1.0,1.3,1.3,1.3,1.2,1.4,1.2,1.0,1.3,1.2,1.3,1.3,1.1,1.4,1.3,1.4,1.3,1.2,1.5,1.5,1.3,1.5,1.3,1.6,1.0,1.3,1.4,1.0,1.5,1.4,1.4,1.3,1.4,1.5,1.0,1.5,1.1,1.8,1.3,1.5,1.0],\"mode\":\"markers\",\"marker\":{\"size\":12,\"color\":\"red\",\"line\":{\"color\":\"orange\",\"width\":0.5}},\"name\":\"Iris-versicolor\"},{\"type\":\"scatter\",\"x\":[5.6,5.1,5.6,6.4,4.8,5.8,5.6,4.9,6.1,6.1,5.6,5.1,4.8,5.4,5.6,5.1,5.9,5.7,5.2,5.0,5.2,6.0,5.5,5.7,5.5,6.7,6.0,5.1,5.9,5.6,5.8,6.6,4.5,6.3,5.8,6.1,4.9,5.1,5.4,5.0,5.1,5.3,5.5,6.7,6.9,5.0,5.7,4.9,5.3,5.1],\"y\":[1.4,1.5,2.2,2.0,1.8,1.6,2.1,1.8,2.3,1.9,2.4,2.3,1.8,2.1,2.4,1.9,2.3,2.5,2.3,1.9,2.0,1.8,1.8,2.1,2.1,2.0,2.5,1.9,2.1,1.8,2.2,2.1,1.7,1.8,1.8,2.5,1.8,2.0,2.3,2.0,2.4,2.3,1.8,2.2,2.3,1.5,2.3,2.0,1.9,1.8],\"mode\":\"markers\",\"marker\":{\"size\":12,\"color\":\"yellow\",\"line\":{\"color\":\"orange\",\"width\":0.5}},\"name\":\"Iris-virginica\"}];\n",
       "           var layout = {\"title\":\"Petal Length and Petal Width in Cm\",\"xaxis\":{\"title\":\"Length\",\"_isSubplotObj\":true},\"yaxis\":{\"title\":\"Width\",\"_isSubplotObj\":true}};\n",
       "           Plotly.newPlot('3de3dd0e-449c-479c-95a4-16f7007b2f7c', data, layout);\n",
       "        \r\n",
       "});\n",
       "};\r\n",
       "// ensure `require` is available globally\r\n",
       "if ((typeof(require) !==  typeof(Function)) || (typeof(require.config) !== typeof(Function))) {\r\n",
       "    let require_script = document.createElement('script');\r\n",
       "    require_script.setAttribute('src', 'https://cdnjs.cloudflare.com/ajax/libs/require.js/2.3.6/require.min.js');\r\n",
       "    require_script.setAttribute('type', 'text/javascript');\r\n",
       "    \r\n",
       "    \r\n",
       "    require_script.onload = function() {\r\n",
       "        renderPlotly();\r\n",
       "    };\r\n",
       "\r\n",
       "    document.getElementsByTagName('head')[0].appendChild(require_script);\r\n",
       "}\r\n",
       "else {\r\n",
       "    renderPlotly();\r\n",
       "}\r\n",
       "\r\n",
       "</script>\r\n"
      ]
     },
     "execution_count": 20,
     "metadata": {},
     "output_type": "execute_result"
    }
   ],
   "source": [
    "// Scatter plot\n",
    "// Vezme všechny řádky, které obsahují iris-setosu\n",
    "// A z těchto řádků vezme první sloupec\n",
    "var setosaRows = df.OrderBy(\"Species\").Rows.Where(row => row.Last().ToString() == \"Iris-setosa\");\n",
    "var setosaPetalLength = setosaRows.Select(x => x[2]).ToList();\n",
    "var setosaPetalWidth = setosaRows.Select(x => x[3]).ToList();\n",
    "\n",
    "var versicolorRows = df.OrderBy(\"Species\").Rows.Where(row => row.Last().ToString() == \"Iris-versicolor\");\n",
    "var versicolorPetalLength = versicolorRows.Select(x => x[2]).ToList();\n",
    "var versicolorPetalWidth = versicolorRows.Select(x => x[3]).ToList();\n",
    "\n",
    "var virginicaRows = df.OrderBy(\"Species\").Rows.Where(row => row.Last().ToString() == \"Iris-virginica\");\n",
    "var virginicaPetalLength = virginicaRows.Select(x => x[2]).ToList();\n",
    "var virginicaPetalWidth = virginicaRows.Select(x => x[3]).ToList();\n",
    "\n",
    "var scatterPlots = new List<Scatter>{\n",
    "    new Scatter\n",
    "    {\n",
    "        x = setosaPetalLength,\n",
    "        y = setosaPetalWidth,        \n",
    "        mode = \"markers\",\n",
    "        name = \"Iris-setosa\",\n",
    "        marker = new Marker\n",
    "        {\n",
    "            color = \"rgb(164, 194, 244)\", // Barva markeru\n",
    "            size = 12, // Velikost markeru\n",
    "            line = new Line // Border markeru\n",
    "            {\n",
    "                color = \"blue\",\n",
    "                width = 0.5\n",
    "            }\n",
    "        }\n",
    "    },\n",
    "    new Scatter\n",
    "    {\n",
    "        x = versicolorPetalLength,\n",
    "        y = versicolorPetalWidth,        \n",
    "        mode = \"markers\",\n",
    "        name = \"Iris-versicolor\",\n",
    "        marker = new Marker\n",
    "        {\n",
    "            color = \"red\", \n",
    "            size = 12, \n",
    "            line = new Line \n",
    "            {\n",
    "                color = \"orange\",\n",
    "                width = 0.5\n",
    "            }\n",
    "        }\n",
    "    },\n",
    "    new Scatter\n",
    "    {\n",
    "        x = virginicaPetalLength,\n",
    "        y = virginicaPetalWidth,        \n",
    "        mode = \"markers\",\n",
    "        name = \"Iris-virginica\",\n",
    "        marker = new Marker\n",
    "        {\n",
    "            color = \"yellow\",\n",
    "            size = 12, \n",
    "            line = new Line \n",
    "            {\n",
    "                color = \"orange\",\n",
    "                width = 0.5\n",
    "            }\n",
    "        }\n",
    "    }\n",
    "};\n",
    "\n",
    "var scatterPlots_layout = new Layout.Layout{\n",
    "    title = \"Petal Length and Petal Width in Cm\",\n",
    "    xaxis = new Xaxis{\n",
    "        title = \"Length\"\n",
    "    },\n",
    "    yaxis =new Yaxis{\n",
    "        title = \"Width\"\n",
    "    }\n",
    "};\n",
    "\n",
    "// Je nutné na list zavolat funkci plot a výsledek uložit do proměnné\n",
    "var scatterPlot = Chart.Plot(scatterPlots);\n",
    "scatterPlot.WithLayout(scatterPlots_layout);\n",
    "scatterPlot"
   ]
  },
  {
   "cell_type": "code",
   "execution_count": 21,
   "id": "35394ec0-065c-4d0d-b7c2-eabeb165f75b",
   "metadata": {},
   "outputs": [],
   "source": [
    "// Změní sloupec stringů na sloupec floatů\n",
    "List<Single> StringConverter(List<string> stringList)\n",
    "{\n",
    "    var strings = new List<string>();\n",
    "    var floatList = new List<Single>();\n",
    "\n",
    "    foreach(string s in stringList)\n",
    "    {\n",
    "        if (!strings.Contains(s))\n",
    "        {\n",
    "            strings.Add(s);\n",
    "            floatList.Add((float)strings.IndexOf(s));\n",
    "        }\n",
    "        else\n",
    "        {\n",
    "            floatList.Add((float)strings.IndexOf(s));\n",
    "        }\n",
    "    }\n",
    "    \n",
    "    return floatList;\n",
    "}"
   ]
  },
  {
   "cell_type": "code",
   "execution_count": 22,
   "id": "c529349b-505c-47ad-980a-ca4b9aaebd23",
   "metadata": {},
   "outputs": [
    {
     "data": {
      "text/html": [
       "<table id=\"table_637851923069725596\"><caption><h3 style=\"text-align: center;\">DataFrame - 150 rows </h3></caption><thead><tr><th><i>index</i></th><th>SepalLengthCm</th><th>SepalWidthCm</th><th>PetalLengthCm</th><th>PetalWidthCm</th><th>Species</th></tr></thead><tbody><tr style=\"display: none\"><td><i><div class=\"dni-plaintext\">0</div></i></td><td><div class=\"dni-plaintext\">5.1</div></td><td><div class=\"dni-plaintext\">3.5</div></td><td><div class=\"dni-plaintext\">1.4</div></td><td><div class=\"dni-plaintext\">0.2</div></td><td><div class=\"dni-plaintext\">0</div></td></tr><tr style=\"display: none\"><td><i><div class=\"dni-plaintext\">1</div></i></td><td><div class=\"dni-plaintext\">4.9</div></td><td><div class=\"dni-plaintext\">3</div></td><td><div class=\"dni-plaintext\">1.4</div></td><td><div class=\"dni-plaintext\">0.2</div></td><td><div class=\"dni-plaintext\">0</div></td></tr><tr style=\"display: none\"><td><i><div class=\"dni-plaintext\">2</div></i></td><td><div class=\"dni-plaintext\">4.7</div></td><td><div class=\"dni-plaintext\">3.2</div></td><td><div class=\"dni-plaintext\">1.3</div></td><td><div class=\"dni-plaintext\">0.2</div></td><td><div class=\"dni-plaintext\">0</div></td></tr><tr style=\"display: none\"><td><i><div class=\"dni-plaintext\">3</div></i></td><td><div class=\"dni-plaintext\">4.6</div></td><td><div class=\"dni-plaintext\">3.1</div></td><td><div class=\"dni-plaintext\">1.5</div></td><td><div class=\"dni-plaintext\">0.2</div></td><td><div class=\"dni-plaintext\">0</div></td></tr><tr style=\"display: none\"><td><i><div class=\"dni-plaintext\">4</div></i></td><td><div class=\"dni-plaintext\">5</div></td><td><div class=\"dni-plaintext\">3.6</div></td><td><div class=\"dni-plaintext\">1.4</div></td><td><div class=\"dni-plaintext\">0.2</div></td><td><div class=\"dni-plaintext\">0</div></td></tr><tr style=\"display: none\"><td><i><div class=\"dni-plaintext\">5</div></i></td><td><div class=\"dni-plaintext\">5.4</div></td><td><div class=\"dni-plaintext\">3.9</div></td><td><div class=\"dni-plaintext\">1.7</div></td><td><div class=\"dni-plaintext\">0.4</div></td><td><div class=\"dni-plaintext\">0</div></td></tr><tr style=\"display: none\"><td><i><div class=\"dni-plaintext\">6</div></i></td><td><div class=\"dni-plaintext\">4.6</div></td><td><div class=\"dni-plaintext\">3.4</div></td><td><div class=\"dni-plaintext\">1.4</div></td><td><div class=\"dni-plaintext\">0.3</div></td><td><div class=\"dni-plaintext\">0</div></td></tr><tr style=\"display: none\"><td><i><div class=\"dni-plaintext\">7</div></i></td><td><div class=\"dni-plaintext\">5</div></td><td><div class=\"dni-plaintext\">3.4</div></td><td><div class=\"dni-plaintext\">1.5</div></td><td><div class=\"dni-plaintext\">0.2</div></td><td><div class=\"dni-plaintext\">0</div></td></tr><tr style=\"display: none\"><td><i><div class=\"dni-plaintext\">8</div></i></td><td><div class=\"dni-plaintext\">4.4</div></td><td><div class=\"dni-plaintext\">2.9</div></td><td><div class=\"dni-plaintext\">1.4</div></td><td><div class=\"dni-plaintext\">0.2</div></td><td><div class=\"dni-plaintext\">0</div></td></tr><tr style=\"display: none\"><td><i><div class=\"dni-plaintext\">9</div></i></td><td><div class=\"dni-plaintext\">4.9</div></td><td><div class=\"dni-plaintext\">3.1</div></td><td><div class=\"dni-plaintext\">1.5</div></td><td><div class=\"dni-plaintext\">0.1</div></td><td><div class=\"dni-plaintext\">0</div></td></tr><tr style=\"display: none\"><td><i><div class=\"dni-plaintext\">10</div></i></td><td><div class=\"dni-plaintext\">5.4</div></td><td><div class=\"dni-plaintext\">3.7</div></td><td><div class=\"dni-plaintext\">1.5</div></td><td><div class=\"dni-plaintext\">0.2</div></td><td><div class=\"dni-plaintext\">0</div></td></tr><tr style=\"display: none\"><td><i><div class=\"dni-plaintext\">11</div></i></td><td><div class=\"dni-plaintext\">4.8</div></td><td><div class=\"dni-plaintext\">3.4</div></td><td><div class=\"dni-plaintext\">1.6</div></td><td><div class=\"dni-plaintext\">0.2</div></td><td><div class=\"dni-plaintext\">0</div></td></tr><tr style=\"display: none\"><td><i><div class=\"dni-plaintext\">12</div></i></td><td><div class=\"dni-plaintext\">4.8</div></td><td><div class=\"dni-plaintext\">3</div></td><td><div class=\"dni-plaintext\">1.4</div></td><td><div class=\"dni-plaintext\">0.1</div></td><td><div class=\"dni-plaintext\">0</div></td></tr><tr style=\"display: none\"><td><i><div class=\"dni-plaintext\">13</div></i></td><td><div class=\"dni-plaintext\">4.3</div></td><td><div class=\"dni-plaintext\">3</div></td><td><div class=\"dni-plaintext\">1.1</div></td><td><div class=\"dni-plaintext\">0.1</div></td><td><div class=\"dni-plaintext\">0</div></td></tr><tr style=\"display: none\"><td><i><div class=\"dni-plaintext\">14</div></i></td><td><div class=\"dni-plaintext\">5.8</div></td><td><div class=\"dni-plaintext\">4</div></td><td><div class=\"dni-plaintext\">1.2</div></td><td><div class=\"dni-plaintext\">0.2</div></td><td><div class=\"dni-plaintext\">0</div></td></tr><tr style=\"display: none\"><td><i><div class=\"dni-plaintext\">15</div></i></td><td><div class=\"dni-plaintext\">5.7</div></td><td><div class=\"dni-plaintext\">4.4</div></td><td><div class=\"dni-plaintext\">1.5</div></td><td><div class=\"dni-plaintext\">0.4</div></td><td><div class=\"dni-plaintext\">0</div></td></tr><tr style=\"display: none\"><td><i><div class=\"dni-plaintext\">16</div></i></td><td><div class=\"dni-plaintext\">5.4</div></td><td><div class=\"dni-plaintext\">3.9</div></td><td><div class=\"dni-plaintext\">1.3</div></td><td><div class=\"dni-plaintext\">0.4</div></td><td><div class=\"dni-plaintext\">0</div></td></tr><tr style=\"display: none\"><td><i><div class=\"dni-plaintext\">17</div></i></td><td><div class=\"dni-plaintext\">5.1</div></td><td><div class=\"dni-plaintext\">3.5</div></td><td><div class=\"dni-plaintext\">1.4</div></td><td><div class=\"dni-plaintext\">0.3</div></td><td><div class=\"dni-plaintext\">0</div></td></tr><tr style=\"display: none\"><td><i><div class=\"dni-plaintext\">18</div></i></td><td><div class=\"dni-plaintext\">5.7</div></td><td><div class=\"dni-plaintext\">3.8</div></td><td><div class=\"dni-plaintext\">1.7</div></td><td><div class=\"dni-plaintext\">0.3</div></td><td><div class=\"dni-plaintext\">0</div></td></tr><tr style=\"display: none\"><td><i><div class=\"dni-plaintext\">19</div></i></td><td><div class=\"dni-plaintext\">5.1</div></td><td><div class=\"dni-plaintext\">3.8</div></td><td><div class=\"dni-plaintext\">1.5</div></td><td><div class=\"dni-plaintext\">0.3</div></td><td><div class=\"dni-plaintext\">0</div></td></tr><tr style=\"display: none\"><td><i><div class=\"dni-plaintext\">20</div></i></td><td><div class=\"dni-plaintext\">5.4</div></td><td><div class=\"dni-plaintext\">3.4</div></td><td><div class=\"dni-plaintext\">1.7</div></td><td><div class=\"dni-plaintext\">0.2</div></td><td><div class=\"dni-plaintext\">0</div></td></tr><tr style=\"display: none\"><td><i><div class=\"dni-plaintext\">21</div></i></td><td><div class=\"dni-plaintext\">5.1</div></td><td><div class=\"dni-plaintext\">3.7</div></td><td><div class=\"dni-plaintext\">1.5</div></td><td><div class=\"dni-plaintext\">0.4</div></td><td><div class=\"dni-plaintext\">0</div></td></tr><tr style=\"display: none\"><td><i><div class=\"dni-plaintext\">22</div></i></td><td><div class=\"dni-plaintext\">4.6</div></td><td><div class=\"dni-plaintext\">3.6</div></td><td><div class=\"dni-plaintext\">1</div></td><td><div class=\"dni-plaintext\">0.2</div></td><td><div class=\"dni-plaintext\">0</div></td></tr><tr style=\"display: none\"><td><i><div class=\"dni-plaintext\">23</div></i></td><td><div class=\"dni-plaintext\">5.1</div></td><td><div class=\"dni-plaintext\">3.3</div></td><td><div class=\"dni-plaintext\">1.7</div></td><td><div class=\"dni-plaintext\">0.5</div></td><td><div class=\"dni-plaintext\">0</div></td></tr><tr style=\"display: none\"><td><i><div class=\"dni-plaintext\">24</div></i></td><td><div class=\"dni-plaintext\">4.8</div></td><td><div class=\"dni-plaintext\">3.4</div></td><td><div class=\"dni-plaintext\">1.9</div></td><td><div class=\"dni-plaintext\">0.2</div></td><td><div class=\"dni-plaintext\">0</div></td></tr><tr style=\"display: none\"><td><i><div class=\"dni-plaintext\">25</div></i></td><td><div class=\"dni-plaintext\">5</div></td><td><div class=\"dni-plaintext\">3</div></td><td><div class=\"dni-plaintext\">1.6</div></td><td><div class=\"dni-plaintext\">0.2</div></td><td><div class=\"dni-plaintext\">0</div></td></tr><tr style=\"display: none\"><td><i><div class=\"dni-plaintext\">26</div></i></td><td><div class=\"dni-plaintext\">5</div></td><td><div class=\"dni-plaintext\">3.4</div></td><td><div class=\"dni-plaintext\">1.6</div></td><td><div class=\"dni-plaintext\">0.4</div></td><td><div class=\"dni-plaintext\">0</div></td></tr><tr style=\"display: none\"><td><i><div class=\"dni-plaintext\">27</div></i></td><td><div class=\"dni-plaintext\">5.2</div></td><td><div class=\"dni-plaintext\">3.5</div></td><td><div class=\"dni-plaintext\">1.5</div></td><td><div class=\"dni-plaintext\">0.2</div></td><td><div class=\"dni-plaintext\">0</div></td></tr><tr style=\"display: none\"><td><i><div class=\"dni-plaintext\">28</div></i></td><td><div class=\"dni-plaintext\">5.2</div></td><td><div class=\"dni-plaintext\">3.4</div></td><td><div class=\"dni-plaintext\">1.4</div></td><td><div class=\"dni-plaintext\">0.2</div></td><td><div class=\"dni-plaintext\">0</div></td></tr><tr style=\"display: none\"><td><i><div class=\"dni-plaintext\">29</div></i></td><td><div class=\"dni-plaintext\">4.7</div></td><td><div class=\"dni-plaintext\">3.2</div></td><td><div class=\"dni-plaintext\">1.6</div></td><td><div class=\"dni-plaintext\">0.2</div></td><td><div class=\"dni-plaintext\">0</div></td></tr><tr style=\"display: none\"><td><i><div class=\"dni-plaintext\">30</div></i></td><td><div class=\"dni-plaintext\">4.8</div></td><td><div class=\"dni-plaintext\">3.1</div></td><td><div class=\"dni-plaintext\">1.6</div></td><td><div class=\"dni-plaintext\">0.2</div></td><td><div class=\"dni-plaintext\">0</div></td></tr><tr style=\"display: none\"><td><i><div class=\"dni-plaintext\">31</div></i></td><td><div class=\"dni-plaintext\">5.4</div></td><td><div class=\"dni-plaintext\">3.4</div></td><td><div class=\"dni-plaintext\">1.5</div></td><td><div class=\"dni-plaintext\">0.4</div></td><td><div class=\"dni-plaintext\">0</div></td></tr><tr style=\"display: none\"><td><i><div class=\"dni-plaintext\">32</div></i></td><td><div class=\"dni-plaintext\">5.2</div></td><td><div class=\"dni-plaintext\">4.1</div></td><td><div class=\"dni-plaintext\">1.5</div></td><td><div class=\"dni-plaintext\">0.1</div></td><td><div class=\"dni-plaintext\">0</div></td></tr><tr style=\"display: none\"><td><i><div class=\"dni-plaintext\">33</div></i></td><td><div class=\"dni-plaintext\">5.5</div></td><td><div class=\"dni-plaintext\">4.2</div></td><td><div class=\"dni-plaintext\">1.4</div></td><td><div class=\"dni-plaintext\">0.2</div></td><td><div class=\"dni-plaintext\">0</div></td></tr><tr style=\"display: none\"><td><i><div class=\"dni-plaintext\">34</div></i></td><td><div class=\"dni-plaintext\">4.9</div></td><td><div class=\"dni-plaintext\">3.1</div></td><td><div class=\"dni-plaintext\">1.5</div></td><td><div class=\"dni-plaintext\">0.1</div></td><td><div class=\"dni-plaintext\">0</div></td></tr><tr style=\"display: none\"><td><i><div class=\"dni-plaintext\">35</div></i></td><td><div class=\"dni-plaintext\">5</div></td><td><div class=\"dni-plaintext\">3.2</div></td><td><div class=\"dni-plaintext\">1.2</div></td><td><div class=\"dni-plaintext\">0.2</div></td><td><div class=\"dni-plaintext\">0</div></td></tr><tr style=\"display: none\"><td><i><div class=\"dni-plaintext\">36</div></i></td><td><div class=\"dni-plaintext\">5.5</div></td><td><div class=\"dni-plaintext\">3.5</div></td><td><div class=\"dni-plaintext\">1.3</div></td><td><div class=\"dni-plaintext\">0.2</div></td><td><div class=\"dni-plaintext\">0</div></td></tr><tr style=\"display: none\"><td><i><div class=\"dni-plaintext\">37</div></i></td><td><div class=\"dni-plaintext\">4.9</div></td><td><div class=\"dni-plaintext\">3.1</div></td><td><div class=\"dni-plaintext\">1.5</div></td><td><div class=\"dni-plaintext\">0.1</div></td><td><div class=\"dni-plaintext\">0</div></td></tr><tr style=\"display: none\"><td><i><div class=\"dni-plaintext\">38</div></i></td><td><div class=\"dni-plaintext\">4.4</div></td><td><div class=\"dni-plaintext\">3</div></td><td><div class=\"dni-plaintext\">1.3</div></td><td><div class=\"dni-plaintext\">0.2</div></td><td><div class=\"dni-plaintext\">0</div></td></tr><tr style=\"display: none\"><td><i><div class=\"dni-plaintext\">39</div></i></td><td><div class=\"dni-plaintext\">5.1</div></td><td><div class=\"dni-plaintext\">3.4</div></td><td><div class=\"dni-plaintext\">1.5</div></td><td><div class=\"dni-plaintext\">0.2</div></td><td><div class=\"dni-plaintext\">0</div></td></tr><tr style=\"display: none\"><td><i><div class=\"dni-plaintext\">40</div></i></td><td><div class=\"dni-plaintext\">5</div></td><td><div class=\"dni-plaintext\">3.5</div></td><td><div class=\"dni-plaintext\">1.3</div></td><td><div class=\"dni-plaintext\">0.3</div></td><td><div class=\"dni-plaintext\">0</div></td></tr><tr style=\"display: none\"><td><i><div class=\"dni-plaintext\">41</div></i></td><td><div class=\"dni-plaintext\">4.5</div></td><td><div class=\"dni-plaintext\">2.3</div></td><td><div class=\"dni-plaintext\">1.3</div></td><td><div class=\"dni-plaintext\">0.3</div></td><td><div class=\"dni-plaintext\">0</div></td></tr><tr style=\"display: none\"><td><i><div class=\"dni-plaintext\">42</div></i></td><td><div class=\"dni-plaintext\">4.4</div></td><td><div class=\"dni-plaintext\">3.2</div></td><td><div class=\"dni-plaintext\">1.3</div></td><td><div class=\"dni-plaintext\">0.2</div></td><td><div class=\"dni-plaintext\">0</div></td></tr><tr style=\"display: none\"><td><i><div class=\"dni-plaintext\">43</div></i></td><td><div class=\"dni-plaintext\">5</div></td><td><div class=\"dni-plaintext\">3.5</div></td><td><div class=\"dni-plaintext\">1.6</div></td><td><div class=\"dni-plaintext\">0.6</div></td><td><div class=\"dni-plaintext\">0</div></td></tr><tr style=\"display: none\"><td><i><div class=\"dni-plaintext\">44</div></i></td><td><div class=\"dni-plaintext\">5.1</div></td><td><div class=\"dni-plaintext\">3.8</div></td><td><div class=\"dni-plaintext\">1.9</div></td><td><div class=\"dni-plaintext\">0.4</div></td><td><div class=\"dni-plaintext\">0</div></td></tr><tr style=\"display: none\"><td><i><div class=\"dni-plaintext\">45</div></i></td><td><div class=\"dni-plaintext\">4.8</div></td><td><div class=\"dni-plaintext\">3</div></td><td><div class=\"dni-plaintext\">1.4</div></td><td><div class=\"dni-plaintext\">0.3</div></td><td><div class=\"dni-plaintext\">0</div></td></tr><tr style=\"display: none\"><td><i><div class=\"dni-plaintext\">46</div></i></td><td><div class=\"dni-plaintext\">5.1</div></td><td><div class=\"dni-plaintext\">3.8</div></td><td><div class=\"dni-plaintext\">1.6</div></td><td><div class=\"dni-plaintext\">0.2</div></td><td><div class=\"dni-plaintext\">0</div></td></tr><tr style=\"display: none\"><td><i><div class=\"dni-plaintext\">47</div></i></td><td><div class=\"dni-plaintext\">4.6</div></td><td><div class=\"dni-plaintext\">3.2</div></td><td><div class=\"dni-plaintext\">1.4</div></td><td><div class=\"dni-plaintext\">0.2</div></td><td><div class=\"dni-plaintext\">0</div></td></tr><tr style=\"display: none\"><td><i><div class=\"dni-plaintext\">48</div></i></td><td><div class=\"dni-plaintext\">5.3</div></td><td><div class=\"dni-plaintext\">3.7</div></td><td><div class=\"dni-plaintext\">1.5</div></td><td><div class=\"dni-plaintext\">0.2</div></td><td><div class=\"dni-plaintext\">0</div></td></tr><tr style=\"display: none\"><td><i><div class=\"dni-plaintext\">49</div></i></td><td><div class=\"dni-plaintext\">5</div></td><td><div class=\"dni-plaintext\">3.3</div></td><td><div class=\"dni-plaintext\">1.4</div></td><td><div class=\"dni-plaintext\">0.2</div></td><td><div class=\"dni-plaintext\">0</div></td></tr><tr style=\"display: none\"><td><i><div class=\"dni-plaintext\">50</div></i></td><td><div class=\"dni-plaintext\">7</div></td><td><div class=\"dni-plaintext\">3.2</div></td><td><div class=\"dni-plaintext\">4.7</div></td><td><div class=\"dni-plaintext\">1.4</div></td><td><div class=\"dni-plaintext\">1</div></td></tr><tr style=\"display: none\"><td><i><div class=\"dni-plaintext\">51</div></i></td><td><div class=\"dni-plaintext\">6.4</div></td><td><div class=\"dni-plaintext\">3.2</div></td><td><div class=\"dni-plaintext\">4.5</div></td><td><div class=\"dni-plaintext\">1.5</div></td><td><div class=\"dni-plaintext\">1</div></td></tr><tr style=\"display: none\"><td><i><div class=\"dni-plaintext\">52</div></i></td><td><div class=\"dni-plaintext\">6.9</div></td><td><div class=\"dni-plaintext\">3.1</div></td><td><div class=\"dni-plaintext\">4.9</div></td><td><div class=\"dni-plaintext\">1.5</div></td><td><div class=\"dni-plaintext\">1</div></td></tr><tr style=\"display: none\"><td><i><div class=\"dni-plaintext\">53</div></i></td><td><div class=\"dni-plaintext\">5.5</div></td><td><div class=\"dni-plaintext\">2.3</div></td><td><div class=\"dni-plaintext\">4</div></td><td><div class=\"dni-plaintext\">1.3</div></td><td><div class=\"dni-plaintext\">1</div></td></tr><tr style=\"display: none\"><td><i><div class=\"dni-plaintext\">54</div></i></td><td><div class=\"dni-plaintext\">6.5</div></td><td><div class=\"dni-plaintext\">2.8</div></td><td><div class=\"dni-plaintext\">4.6</div></td><td><div class=\"dni-plaintext\">1.5</div></td><td><div class=\"dni-plaintext\">1</div></td></tr><tr style=\"display: none\"><td><i><div class=\"dni-plaintext\">55</div></i></td><td><div class=\"dni-plaintext\">5.7</div></td><td><div class=\"dni-plaintext\">2.8</div></td><td><div class=\"dni-plaintext\">4.5</div></td><td><div class=\"dni-plaintext\">1.3</div></td><td><div class=\"dni-plaintext\">1</div></td></tr><tr style=\"display: none\"><td><i><div class=\"dni-plaintext\">56</div></i></td><td><div class=\"dni-plaintext\">6.3</div></td><td><div class=\"dni-plaintext\">3.3</div></td><td><div class=\"dni-plaintext\">4.7</div></td><td><div class=\"dni-plaintext\">1.6</div></td><td><div class=\"dni-plaintext\">1</div></td></tr><tr style=\"display: none\"><td><i><div class=\"dni-plaintext\">57</div></i></td><td><div class=\"dni-plaintext\">4.9</div></td><td><div class=\"dni-plaintext\">2.4</div></td><td><div class=\"dni-plaintext\">3.3</div></td><td><div class=\"dni-plaintext\">1</div></td><td><div class=\"dni-plaintext\">1</div></td></tr><tr style=\"display: none\"><td><i><div class=\"dni-plaintext\">58</div></i></td><td><div class=\"dni-plaintext\">6.6</div></td><td><div class=\"dni-plaintext\">2.9</div></td><td><div class=\"dni-plaintext\">4.6</div></td><td><div class=\"dni-plaintext\">1.3</div></td><td><div class=\"dni-plaintext\">1</div></td></tr><tr style=\"display: none\"><td><i><div class=\"dni-plaintext\">59</div></i></td><td><div class=\"dni-plaintext\">5.2</div></td><td><div class=\"dni-plaintext\">2.7</div></td><td><div class=\"dni-plaintext\">3.9</div></td><td><div class=\"dni-plaintext\">1.4</div></td><td><div class=\"dni-plaintext\">1</div></td></tr><tr style=\"display: none\"><td><i><div class=\"dni-plaintext\">60</div></i></td><td><div class=\"dni-plaintext\">5</div></td><td><div class=\"dni-plaintext\">2</div></td><td><div class=\"dni-plaintext\">3.5</div></td><td><div class=\"dni-plaintext\">1</div></td><td><div class=\"dni-plaintext\">1</div></td></tr><tr style=\"display: none\"><td><i><div class=\"dni-plaintext\">61</div></i></td><td><div class=\"dni-plaintext\">5.9</div></td><td><div class=\"dni-plaintext\">3</div></td><td><div class=\"dni-plaintext\">4.2</div></td><td><div class=\"dni-plaintext\">1.5</div></td><td><div class=\"dni-plaintext\">1</div></td></tr><tr style=\"display: none\"><td><i><div class=\"dni-plaintext\">62</div></i></td><td><div class=\"dni-plaintext\">6</div></td><td><div class=\"dni-plaintext\">2.2</div></td><td><div class=\"dni-plaintext\">4</div></td><td><div class=\"dni-plaintext\">1</div></td><td><div class=\"dni-plaintext\">1</div></td></tr><tr style=\"display: none\"><td><i><div class=\"dni-plaintext\">63</div></i></td><td><div class=\"dni-plaintext\">6.1</div></td><td><div class=\"dni-plaintext\">2.9</div></td><td><div class=\"dni-plaintext\">4.7</div></td><td><div class=\"dni-plaintext\">1.4</div></td><td><div class=\"dni-plaintext\">1</div></td></tr><tr style=\"display: none\"><td><i><div class=\"dni-plaintext\">64</div></i></td><td><div class=\"dni-plaintext\">5.6</div></td><td><div class=\"dni-plaintext\">2.9</div></td><td><div class=\"dni-plaintext\">3.6</div></td><td><div class=\"dni-plaintext\">1.3</div></td><td><div class=\"dni-plaintext\">1</div></td></tr><tr style=\"display: none\"><td><i><div class=\"dni-plaintext\">65</div></i></td><td><div class=\"dni-plaintext\">6.7</div></td><td><div class=\"dni-plaintext\">3.1</div></td><td><div class=\"dni-plaintext\">4.4</div></td><td><div class=\"dni-plaintext\">1.4</div></td><td><div class=\"dni-plaintext\">1</div></td></tr><tr style=\"display: none\"><td><i><div class=\"dni-plaintext\">66</div></i></td><td><div class=\"dni-plaintext\">5.6</div></td><td><div class=\"dni-plaintext\">3</div></td><td><div class=\"dni-plaintext\">4.5</div></td><td><div class=\"dni-plaintext\">1.5</div></td><td><div class=\"dni-plaintext\">1</div></td></tr><tr style=\"display: none\"><td><i><div class=\"dni-plaintext\">67</div></i></td><td><div class=\"dni-plaintext\">5.8</div></td><td><div class=\"dni-plaintext\">2.7</div></td><td><div class=\"dni-plaintext\">4.1</div></td><td><div class=\"dni-plaintext\">1</div></td><td><div class=\"dni-plaintext\">1</div></td></tr><tr style=\"display: none\"><td><i><div class=\"dni-plaintext\">68</div></i></td><td><div class=\"dni-plaintext\">6.2</div></td><td><div class=\"dni-plaintext\">2.2</div></td><td><div class=\"dni-plaintext\">4.5</div></td><td><div class=\"dni-plaintext\">1.5</div></td><td><div class=\"dni-plaintext\">1</div></td></tr><tr style=\"display: none\"><td><i><div class=\"dni-plaintext\">69</div></i></td><td><div class=\"dni-plaintext\">5.6</div></td><td><div class=\"dni-plaintext\">2.5</div></td><td><div class=\"dni-plaintext\">3.9</div></td><td><div class=\"dni-plaintext\">1.1</div></td><td><div class=\"dni-plaintext\">1</div></td></tr><tr style=\"display: none\"><td><i><div class=\"dni-plaintext\">70</div></i></td><td><div class=\"dni-plaintext\">5.9</div></td><td><div class=\"dni-plaintext\">3.2</div></td><td><div class=\"dni-plaintext\">4.8</div></td><td><div class=\"dni-plaintext\">1.8</div></td><td><div class=\"dni-plaintext\">1</div></td></tr><tr style=\"display: none\"><td><i><div class=\"dni-plaintext\">71</div></i></td><td><div class=\"dni-plaintext\">6.1</div></td><td><div class=\"dni-plaintext\">2.8</div></td><td><div class=\"dni-plaintext\">4</div></td><td><div class=\"dni-plaintext\">1.3</div></td><td><div class=\"dni-plaintext\">1</div></td></tr><tr style=\"display: none\"><td><i><div class=\"dni-plaintext\">72</div></i></td><td><div class=\"dni-plaintext\">6.3</div></td><td><div class=\"dni-plaintext\">2.5</div></td><td><div class=\"dni-plaintext\">4.9</div></td><td><div class=\"dni-plaintext\">1.5</div></td><td><div class=\"dni-plaintext\">1</div></td></tr><tr style=\"display: none\"><td><i><div class=\"dni-plaintext\">73</div></i></td><td><div class=\"dni-plaintext\">6.1</div></td><td><div class=\"dni-plaintext\">2.8</div></td><td><div class=\"dni-plaintext\">4.7</div></td><td><div class=\"dni-plaintext\">1.2</div></td><td><div class=\"dni-plaintext\">1</div></td></tr><tr style=\"display: none\"><td><i><div class=\"dni-plaintext\">74</div></i></td><td><div class=\"dni-plaintext\">6.4</div></td><td><div class=\"dni-plaintext\">2.9</div></td><td><div class=\"dni-plaintext\">4.3</div></td><td><div class=\"dni-plaintext\">1.3</div></td><td><div class=\"dni-plaintext\">1</div></td></tr><tr style=\"display: none\"><td><i><div class=\"dni-plaintext\">75</div></i></td><td><div class=\"dni-plaintext\">6.6</div></td><td><div class=\"dni-plaintext\">3</div></td><td><div class=\"dni-plaintext\">4.4</div></td><td><div class=\"dni-plaintext\">1.4</div></td><td><div class=\"dni-plaintext\">1</div></td></tr><tr style=\"display: none\"><td><i><div class=\"dni-plaintext\">76</div></i></td><td><div class=\"dni-plaintext\">6.8</div></td><td><div class=\"dni-plaintext\">2.8</div></td><td><div class=\"dni-plaintext\">4.8</div></td><td><div class=\"dni-plaintext\">1.4</div></td><td><div class=\"dni-plaintext\">1</div></td></tr><tr style=\"display: none\"><td><i><div class=\"dni-plaintext\">77</div></i></td><td><div class=\"dni-plaintext\">6.7</div></td><td><div class=\"dni-plaintext\">3</div></td><td><div class=\"dni-plaintext\">5</div></td><td><div class=\"dni-plaintext\">1.7</div></td><td><div class=\"dni-plaintext\">1</div></td></tr><tr style=\"display: none\"><td><i><div class=\"dni-plaintext\">78</div></i></td><td><div class=\"dni-plaintext\">6</div></td><td><div class=\"dni-plaintext\">2.9</div></td><td><div class=\"dni-plaintext\">4.5</div></td><td><div class=\"dni-plaintext\">1.5</div></td><td><div class=\"dni-plaintext\">1</div></td></tr><tr style=\"display: none\"><td><i><div class=\"dni-plaintext\">79</div></i></td><td><div class=\"dni-plaintext\">5.7</div></td><td><div class=\"dni-plaintext\">2.6</div></td><td><div class=\"dni-plaintext\">3.5</div></td><td><div class=\"dni-plaintext\">1</div></td><td><div class=\"dni-plaintext\">1</div></td></tr><tr style=\"display: none\"><td><i><div class=\"dni-plaintext\">80</div></i></td><td><div class=\"dni-plaintext\">5.5</div></td><td><div class=\"dni-plaintext\">2.4</div></td><td><div class=\"dni-plaintext\">3.8</div></td><td><div class=\"dni-plaintext\">1.1</div></td><td><div class=\"dni-plaintext\">1</div></td></tr><tr style=\"display: none\"><td><i><div class=\"dni-plaintext\">81</div></i></td><td><div class=\"dni-plaintext\">5.5</div></td><td><div class=\"dni-plaintext\">2.4</div></td><td><div class=\"dni-plaintext\">3.7</div></td><td><div class=\"dni-plaintext\">1</div></td><td><div class=\"dni-plaintext\">1</div></td></tr><tr style=\"display: none\"><td><i><div class=\"dni-plaintext\">82</div></i></td><td><div class=\"dni-plaintext\">5.8</div></td><td><div class=\"dni-plaintext\">2.7</div></td><td><div class=\"dni-plaintext\">3.9</div></td><td><div class=\"dni-plaintext\">1.2</div></td><td><div class=\"dni-plaintext\">1</div></td></tr><tr style=\"display: none\"><td><i><div class=\"dni-plaintext\">83</div></i></td><td><div class=\"dni-plaintext\">6</div></td><td><div class=\"dni-plaintext\">2.7</div></td><td><div class=\"dni-plaintext\">5.1</div></td><td><div class=\"dni-plaintext\">1.6</div></td><td><div class=\"dni-plaintext\">1</div></td></tr><tr style=\"display: none\"><td><i><div class=\"dni-plaintext\">84</div></i></td><td><div class=\"dni-plaintext\">5.4</div></td><td><div class=\"dni-plaintext\">3</div></td><td><div class=\"dni-plaintext\">4.5</div></td><td><div class=\"dni-plaintext\">1.5</div></td><td><div class=\"dni-plaintext\">1</div></td></tr><tr style=\"display: none\"><td><i><div class=\"dni-plaintext\">85</div></i></td><td><div class=\"dni-plaintext\">6</div></td><td><div class=\"dni-plaintext\">3.4</div></td><td><div class=\"dni-plaintext\">4.5</div></td><td><div class=\"dni-plaintext\">1.6</div></td><td><div class=\"dni-plaintext\">1</div></td></tr><tr style=\"display: none\"><td><i><div class=\"dni-plaintext\">86</div></i></td><td><div class=\"dni-plaintext\">6.7</div></td><td><div class=\"dni-plaintext\">3.1</div></td><td><div class=\"dni-plaintext\">4.7</div></td><td><div class=\"dni-plaintext\">1.5</div></td><td><div class=\"dni-plaintext\">1</div></td></tr><tr style=\"display: none\"><td><i><div class=\"dni-plaintext\">87</div></i></td><td><div class=\"dni-plaintext\">6.3</div></td><td><div class=\"dni-plaintext\">2.3</div></td><td><div class=\"dni-plaintext\">4.4</div></td><td><div class=\"dni-plaintext\">1.3</div></td><td><div class=\"dni-plaintext\">1</div></td></tr><tr style=\"display: none\"><td><i><div class=\"dni-plaintext\">88</div></i></td><td><div class=\"dni-plaintext\">5.6</div></td><td><div class=\"dni-plaintext\">3</div></td><td><div class=\"dni-plaintext\">4.1</div></td><td><div class=\"dni-plaintext\">1.3</div></td><td><div class=\"dni-plaintext\">1</div></td></tr><tr style=\"display: none\"><td><i><div class=\"dni-plaintext\">89</div></i></td><td><div class=\"dni-plaintext\">5.5</div></td><td><div class=\"dni-plaintext\">2.5</div></td><td><div class=\"dni-plaintext\">4</div></td><td><div class=\"dni-plaintext\">1.3</div></td><td><div class=\"dni-plaintext\">1</div></td></tr><tr style=\"display: none\"><td><i><div class=\"dni-plaintext\">90</div></i></td><td><div class=\"dni-plaintext\">5.5</div></td><td><div class=\"dni-plaintext\">2.6</div></td><td><div class=\"dni-plaintext\">4.4</div></td><td><div class=\"dni-plaintext\">1.2</div></td><td><div class=\"dni-plaintext\">1</div></td></tr><tr style=\"display: none\"><td><i><div class=\"dni-plaintext\">91</div></i></td><td><div class=\"dni-plaintext\">6.1</div></td><td><div class=\"dni-plaintext\">3</div></td><td><div class=\"dni-plaintext\">4.6</div></td><td><div class=\"dni-plaintext\">1.4</div></td><td><div class=\"dni-plaintext\">1</div></td></tr><tr style=\"display: none\"><td><i><div class=\"dni-plaintext\">92</div></i></td><td><div class=\"dni-plaintext\">5.8</div></td><td><div class=\"dni-plaintext\">2.6</div></td><td><div class=\"dni-plaintext\">4</div></td><td><div class=\"dni-plaintext\">1.2</div></td><td><div class=\"dni-plaintext\">1</div></td></tr><tr style=\"display: none\"><td><i><div class=\"dni-plaintext\">93</div></i></td><td><div class=\"dni-plaintext\">5</div></td><td><div class=\"dni-plaintext\">2.3</div></td><td><div class=\"dni-plaintext\">3.3</div></td><td><div class=\"dni-plaintext\">1</div></td><td><div class=\"dni-plaintext\">1</div></td></tr><tr style=\"display: none\"><td><i><div class=\"dni-plaintext\">94</div></i></td><td><div class=\"dni-plaintext\">5.6</div></td><td><div class=\"dni-plaintext\">2.7</div></td><td><div class=\"dni-plaintext\">4.2</div></td><td><div class=\"dni-plaintext\">1.3</div></td><td><div class=\"dni-plaintext\">1</div></td></tr><tr style=\"display: none\"><td><i><div class=\"dni-plaintext\">95</div></i></td><td><div class=\"dni-plaintext\">5.7</div></td><td><div class=\"dni-plaintext\">3</div></td><td><div class=\"dni-plaintext\">4.2</div></td><td><div class=\"dni-plaintext\">1.2</div></td><td><div class=\"dni-plaintext\">1</div></td></tr><tr style=\"display: none\"><td><i><div class=\"dni-plaintext\">96</div></i></td><td><div class=\"dni-plaintext\">5.7</div></td><td><div class=\"dni-plaintext\">2.9</div></td><td><div class=\"dni-plaintext\">4.2</div></td><td><div class=\"dni-plaintext\">1.3</div></td><td><div class=\"dni-plaintext\">1</div></td></tr><tr style=\"display: none\"><td><i><div class=\"dni-plaintext\">97</div></i></td><td><div class=\"dni-plaintext\">6.2</div></td><td><div class=\"dni-plaintext\">2.9</div></td><td><div class=\"dni-plaintext\">4.3</div></td><td><div class=\"dni-plaintext\">1.3</div></td><td><div class=\"dni-plaintext\">1</div></td></tr><tr style=\"display: none\"><td><i><div class=\"dni-plaintext\">98</div></i></td><td><div class=\"dni-plaintext\">5.1</div></td><td><div class=\"dni-plaintext\">2.5</div></td><td><div class=\"dni-plaintext\">3</div></td><td><div class=\"dni-plaintext\">1.1</div></td><td><div class=\"dni-plaintext\">1</div></td></tr><tr style=\"display: none\"><td><i><div class=\"dni-plaintext\">99</div></i></td><td><div class=\"dni-plaintext\">5.7</div></td><td><div class=\"dni-plaintext\">2.8</div></td><td><div class=\"dni-plaintext\">4.1</div></td><td><div class=\"dni-plaintext\">1.3</div></td><td><div class=\"dni-plaintext\">1</div></td></tr><tr style=\"display: none\"><td><i><div class=\"dni-plaintext\">100</div></i></td><td><div class=\"dni-plaintext\">6.3</div></td><td><div class=\"dni-plaintext\">3.3</div></td><td><div class=\"dni-plaintext\">6</div></td><td><div class=\"dni-plaintext\">2.5</div></td><td><div class=\"dni-plaintext\">2</div></td></tr><tr style=\"display: none\"><td><i><div class=\"dni-plaintext\">101</div></i></td><td><div class=\"dni-plaintext\">5.8</div></td><td><div class=\"dni-plaintext\">2.7</div></td><td><div class=\"dni-plaintext\">5.1</div></td><td><div class=\"dni-plaintext\">1.9</div></td><td><div class=\"dni-plaintext\">2</div></td></tr><tr style=\"display: none\"><td><i><div class=\"dni-plaintext\">102</div></i></td><td><div class=\"dni-plaintext\">7.1</div></td><td><div class=\"dni-plaintext\">3</div></td><td><div class=\"dni-plaintext\">5.9</div></td><td><div class=\"dni-plaintext\">2.1</div></td><td><div class=\"dni-plaintext\">2</div></td></tr><tr style=\"display: none\"><td><i><div class=\"dni-plaintext\">103</div></i></td><td><div class=\"dni-plaintext\">6.3</div></td><td><div class=\"dni-plaintext\">2.9</div></td><td><div class=\"dni-plaintext\">5.6</div></td><td><div class=\"dni-plaintext\">1.8</div></td><td><div class=\"dni-plaintext\">2</div></td></tr><tr style=\"display: none\"><td><i><div class=\"dni-plaintext\">104</div></i></td><td><div class=\"dni-plaintext\">6.5</div></td><td><div class=\"dni-plaintext\">3</div></td><td><div class=\"dni-plaintext\">5.8</div></td><td><div class=\"dni-plaintext\">2.2</div></td><td><div class=\"dni-plaintext\">2</div></td></tr><tr style=\"display: none\"><td><i><div class=\"dni-plaintext\">105</div></i></td><td><div class=\"dni-plaintext\">7.6</div></td><td><div class=\"dni-plaintext\">3</div></td><td><div class=\"dni-plaintext\">6.6</div></td><td><div class=\"dni-plaintext\">2.1</div></td><td><div class=\"dni-plaintext\">2</div></td></tr><tr style=\"display: none\"><td><i><div class=\"dni-plaintext\">106</div></i></td><td><div class=\"dni-plaintext\">4.9</div></td><td><div class=\"dni-plaintext\">2.5</div></td><td><div class=\"dni-plaintext\">4.5</div></td><td><div class=\"dni-plaintext\">1.7</div></td><td><div class=\"dni-plaintext\">2</div></td></tr><tr style=\"display: none\"><td><i><div class=\"dni-plaintext\">107</div></i></td><td><div class=\"dni-plaintext\">7.3</div></td><td><div class=\"dni-plaintext\">2.9</div></td><td><div class=\"dni-plaintext\">6.3</div></td><td><div class=\"dni-plaintext\">1.8</div></td><td><div class=\"dni-plaintext\">2</div></td></tr><tr style=\"display: none\"><td><i><div class=\"dni-plaintext\">108</div></i></td><td><div class=\"dni-plaintext\">6.7</div></td><td><div class=\"dni-plaintext\">2.5</div></td><td><div class=\"dni-plaintext\">5.8</div></td><td><div class=\"dni-plaintext\">1.8</div></td><td><div class=\"dni-plaintext\">2</div></td></tr><tr style=\"display: none\"><td><i><div class=\"dni-plaintext\">109</div></i></td><td><div class=\"dni-plaintext\">7.2</div></td><td><div class=\"dni-plaintext\">3.6</div></td><td><div class=\"dni-plaintext\">6.1</div></td><td><div class=\"dni-plaintext\">2.5</div></td><td><div class=\"dni-plaintext\">2</div></td></tr><tr style=\"display: none\"><td><i><div class=\"dni-plaintext\">110</div></i></td><td><div class=\"dni-plaintext\">6.5</div></td><td><div class=\"dni-plaintext\">3.2</div></td><td><div class=\"dni-plaintext\">5.1</div></td><td><div class=\"dni-plaintext\">2</div></td><td><div class=\"dni-plaintext\">2</div></td></tr><tr style=\"display: none\"><td><i><div class=\"dni-plaintext\">111</div></i></td><td><div class=\"dni-plaintext\">6.4</div></td><td><div class=\"dni-plaintext\">2.7</div></td><td><div class=\"dni-plaintext\">5.3</div></td><td><div class=\"dni-plaintext\">1.9</div></td><td><div class=\"dni-plaintext\">2</div></td></tr><tr style=\"display: none\"><td><i><div class=\"dni-plaintext\">112</div></i></td><td><div class=\"dni-plaintext\">6.8</div></td><td><div class=\"dni-plaintext\">3</div></td><td><div class=\"dni-plaintext\">5.5</div></td><td><div class=\"dni-plaintext\">2.1</div></td><td><div class=\"dni-plaintext\">2</div></td></tr><tr style=\"display: none\"><td><i><div class=\"dni-plaintext\">113</div></i></td><td><div class=\"dni-plaintext\">5.7</div></td><td><div class=\"dni-plaintext\">2.5</div></td><td><div class=\"dni-plaintext\">5</div></td><td><div class=\"dni-plaintext\">2</div></td><td><div class=\"dni-plaintext\">2</div></td></tr><tr style=\"display: none\"><td><i><div class=\"dni-plaintext\">114</div></i></td><td><div class=\"dni-plaintext\">5.8</div></td><td><div class=\"dni-plaintext\">2.8</div></td><td><div class=\"dni-plaintext\">5.1</div></td><td><div class=\"dni-plaintext\">2.4</div></td><td><div class=\"dni-plaintext\">2</div></td></tr><tr style=\"display: none\"><td><i><div class=\"dni-plaintext\">115</div></i></td><td><div class=\"dni-plaintext\">6.4</div></td><td><div class=\"dni-plaintext\">3.2</div></td><td><div class=\"dni-plaintext\">5.3</div></td><td><div class=\"dni-plaintext\">2.3</div></td><td><div class=\"dni-plaintext\">2</div></td></tr><tr style=\"display: none\"><td><i><div class=\"dni-plaintext\">116</div></i></td><td><div class=\"dni-plaintext\">6.5</div></td><td><div class=\"dni-plaintext\">3</div></td><td><div class=\"dni-plaintext\">5.5</div></td><td><div class=\"dni-plaintext\">1.8</div></td><td><div class=\"dni-plaintext\">2</div></td></tr><tr style=\"display: none\"><td><i><div class=\"dni-plaintext\">117</div></i></td><td><div class=\"dni-plaintext\">7.7</div></td><td><div class=\"dni-plaintext\">3.8</div></td><td><div class=\"dni-plaintext\">6.7</div></td><td><div class=\"dni-plaintext\">2.2</div></td><td><div class=\"dni-plaintext\">2</div></td></tr><tr style=\"display: none\"><td><i><div class=\"dni-plaintext\">118</div></i></td><td><div class=\"dni-plaintext\">7.7</div></td><td><div class=\"dni-plaintext\">2.6</div></td><td><div class=\"dni-plaintext\">6.9</div></td><td><div class=\"dni-plaintext\">2.3</div></td><td><div class=\"dni-plaintext\">2</div></td></tr><tr style=\"display: none\"><td><i><div class=\"dni-plaintext\">119</div></i></td><td><div class=\"dni-plaintext\">6</div></td><td><div class=\"dni-plaintext\">2.2</div></td><td><div class=\"dni-plaintext\">5</div></td><td><div class=\"dni-plaintext\">1.5</div></td><td><div class=\"dni-plaintext\">2</div></td></tr><tr style=\"display: none\"><td><i><div class=\"dni-plaintext\">120</div></i></td><td><div class=\"dni-plaintext\">6.9</div></td><td><div class=\"dni-plaintext\">3.2</div></td><td><div class=\"dni-plaintext\">5.7</div></td><td><div class=\"dni-plaintext\">2.3</div></td><td><div class=\"dni-plaintext\">2</div></td></tr><tr style=\"display: none\"><td><i><div class=\"dni-plaintext\">121</div></i></td><td><div class=\"dni-plaintext\">5.6</div></td><td><div class=\"dni-plaintext\">2.8</div></td><td><div class=\"dni-plaintext\">4.9</div></td><td><div class=\"dni-plaintext\">2</div></td><td><div class=\"dni-plaintext\">2</div></td></tr><tr style=\"display: none\"><td><i><div class=\"dni-plaintext\">122</div></i></td><td><div class=\"dni-plaintext\">7.7</div></td><td><div class=\"dni-plaintext\">2.8</div></td><td><div class=\"dni-plaintext\">6.7</div></td><td><div class=\"dni-plaintext\">2</div></td><td><div class=\"dni-plaintext\">2</div></td></tr><tr style=\"display: none\"><td><i><div class=\"dni-plaintext\">123</div></i></td><td><div class=\"dni-plaintext\">6.3</div></td><td><div class=\"dni-plaintext\">2.7</div></td><td><div class=\"dni-plaintext\">4.9</div></td><td><div class=\"dni-plaintext\">1.8</div></td><td><div class=\"dni-plaintext\">2</div></td></tr><tr style=\"display: none\"><td><i><div class=\"dni-plaintext\">124</div></i></td><td><div class=\"dni-plaintext\">6.7</div></td><td><div class=\"dni-plaintext\">3.3</div></td><td><div class=\"dni-plaintext\">5.7</div></td><td><div class=\"dni-plaintext\">2.1</div></td><td><div class=\"dni-plaintext\">2</div></td></tr><tr style=\"display: none\"><td><i><div class=\"dni-plaintext\">125</div></i></td><td><div class=\"dni-plaintext\">7.2</div></td><td><div class=\"dni-plaintext\">3.2</div></td><td><div class=\"dni-plaintext\">6</div></td><td><div class=\"dni-plaintext\">1.8</div></td><td><div class=\"dni-plaintext\">2</div></td></tr><tr style=\"display: none\"><td><i><div class=\"dni-plaintext\">126</div></i></td><td><div class=\"dni-plaintext\">6.2</div></td><td><div class=\"dni-plaintext\">2.8</div></td><td><div class=\"dni-plaintext\">4.8</div></td><td><div class=\"dni-plaintext\">1.8</div></td><td><div class=\"dni-plaintext\">2</div></td></tr><tr style=\"display: none\"><td><i><div class=\"dni-plaintext\">127</div></i></td><td><div class=\"dni-plaintext\">6.1</div></td><td><div class=\"dni-plaintext\">3</div></td><td><div class=\"dni-plaintext\">4.9</div></td><td><div class=\"dni-plaintext\">1.8</div></td><td><div class=\"dni-plaintext\">2</div></td></tr><tr style=\"display: none\"><td><i><div class=\"dni-plaintext\">128</div></i></td><td><div class=\"dni-plaintext\">6.4</div></td><td><div class=\"dni-plaintext\">2.8</div></td><td><div class=\"dni-plaintext\">5.6</div></td><td><div class=\"dni-plaintext\">2.1</div></td><td><div class=\"dni-plaintext\">2</div></td></tr><tr style=\"display: none\"><td><i><div class=\"dni-plaintext\">129</div></i></td><td><div class=\"dni-plaintext\">7.2</div></td><td><div class=\"dni-plaintext\">3</div></td><td><div class=\"dni-plaintext\">5.8</div></td><td><div class=\"dni-plaintext\">1.6</div></td><td><div class=\"dni-plaintext\">2</div></td></tr><tr style=\"display: none\"><td><i><div class=\"dni-plaintext\">130</div></i></td><td><div class=\"dni-plaintext\">7.4</div></td><td><div class=\"dni-plaintext\">2.8</div></td><td><div class=\"dni-plaintext\">6.1</div></td><td><div class=\"dni-plaintext\">1.9</div></td><td><div class=\"dni-plaintext\">2</div></td></tr><tr style=\"display: none\"><td><i><div class=\"dni-plaintext\">131</div></i></td><td><div class=\"dni-plaintext\">7.9</div></td><td><div class=\"dni-plaintext\">3.8</div></td><td><div class=\"dni-plaintext\">6.4</div></td><td><div class=\"dni-plaintext\">2</div></td><td><div class=\"dni-plaintext\">2</div></td></tr><tr style=\"display: none\"><td><i><div class=\"dni-plaintext\">132</div></i></td><td><div class=\"dni-plaintext\">6.4</div></td><td><div class=\"dni-plaintext\">2.8</div></td><td><div class=\"dni-plaintext\">5.6</div></td><td><div class=\"dni-plaintext\">2.2</div></td><td><div class=\"dni-plaintext\">2</div></td></tr><tr style=\"display: none\"><td><i><div class=\"dni-plaintext\">133</div></i></td><td><div class=\"dni-plaintext\">6.3</div></td><td><div class=\"dni-plaintext\">2.8</div></td><td><div class=\"dni-plaintext\">5.1</div></td><td><div class=\"dni-plaintext\">1.5</div></td><td><div class=\"dni-plaintext\">2</div></td></tr><tr style=\"display: none\"><td><i><div class=\"dni-plaintext\">134</div></i></td><td><div class=\"dni-plaintext\">6.1</div></td><td><div class=\"dni-plaintext\">2.6</div></td><td><div class=\"dni-plaintext\">5.6</div></td><td><div class=\"dni-plaintext\">1.4</div></td><td><div class=\"dni-plaintext\">2</div></td></tr><tr style=\"display: none\"><td><i><div class=\"dni-plaintext\">135</div></i></td><td><div class=\"dni-plaintext\">7.7</div></td><td><div class=\"dni-plaintext\">3</div></td><td><div class=\"dni-plaintext\">6.1</div></td><td><div class=\"dni-plaintext\">2.3</div></td><td><div class=\"dni-plaintext\">2</div></td></tr><tr style=\"display: none\"><td><i><div class=\"dni-plaintext\">136</div></i></td><td><div class=\"dni-plaintext\">6.3</div></td><td><div class=\"dni-plaintext\">3.4</div></td><td><div class=\"dni-plaintext\">5.6</div></td><td><div class=\"dni-plaintext\">2.4</div></td><td><div class=\"dni-plaintext\">2</div></td></tr><tr style=\"display: none\"><td><i><div class=\"dni-plaintext\">137</div></i></td><td><div class=\"dni-plaintext\">6.4</div></td><td><div class=\"dni-plaintext\">3.1</div></td><td><div class=\"dni-plaintext\">5.5</div></td><td><div class=\"dni-plaintext\">1.8</div></td><td><div class=\"dni-plaintext\">2</div></td></tr><tr style=\"display: none\"><td><i><div class=\"dni-plaintext\">138</div></i></td><td><div class=\"dni-plaintext\">6</div></td><td><div class=\"dni-plaintext\">3</div></td><td><div class=\"dni-plaintext\">4.8</div></td><td><div class=\"dni-plaintext\">1.8</div></td><td><div class=\"dni-plaintext\">2</div></td></tr><tr style=\"display: none\"><td><i><div class=\"dni-plaintext\">139</div></i></td><td><div class=\"dni-plaintext\">6.9</div></td><td><div class=\"dni-plaintext\">3.1</div></td><td><div class=\"dni-plaintext\">5.4</div></td><td><div class=\"dni-plaintext\">2.1</div></td><td><div class=\"dni-plaintext\">2</div></td></tr><tr style=\"display: none\"><td><i><div class=\"dni-plaintext\">140</div></i></td><td><div class=\"dni-plaintext\">6.7</div></td><td><div class=\"dni-plaintext\">3.1</div></td><td><div class=\"dni-plaintext\">5.6</div></td><td><div class=\"dni-plaintext\">2.4</div></td><td><div class=\"dni-plaintext\">2</div></td></tr><tr style=\"display: none\"><td><i><div class=\"dni-plaintext\">141</div></i></td><td><div class=\"dni-plaintext\">6.9</div></td><td><div class=\"dni-plaintext\">3.1</div></td><td><div class=\"dni-plaintext\">5.1</div></td><td><div class=\"dni-plaintext\">2.3</div></td><td><div class=\"dni-plaintext\">2</div></td></tr><tr style=\"display: none\"><td><i><div class=\"dni-plaintext\">142</div></i></td><td><div class=\"dni-plaintext\">5.8</div></td><td><div class=\"dni-plaintext\">2.7</div></td><td><div class=\"dni-plaintext\">5.1</div></td><td><div class=\"dni-plaintext\">1.9</div></td><td><div class=\"dni-plaintext\">2</div></td></tr><tr style=\"display: none\"><td><i><div class=\"dni-plaintext\">143</div></i></td><td><div class=\"dni-plaintext\">6.8</div></td><td><div class=\"dni-plaintext\">3.2</div></td><td><div class=\"dni-plaintext\">5.9</div></td><td><div class=\"dni-plaintext\">2.3</div></td><td><div class=\"dni-plaintext\">2</div></td></tr><tr style=\"display: none\"><td><i><div class=\"dni-plaintext\">144</div></i></td><td><div class=\"dni-plaintext\">6.7</div></td><td><div class=\"dni-plaintext\">3.3</div></td><td><div class=\"dni-plaintext\">5.7</div></td><td><div class=\"dni-plaintext\">2.5</div></td><td><div class=\"dni-plaintext\">2</div></td></tr><tr style=\"display: none\"><td><i><div class=\"dni-plaintext\">145</div></i></td><td><div class=\"dni-plaintext\">6.7</div></td><td><div class=\"dni-plaintext\">3</div></td><td><div class=\"dni-plaintext\">5.2</div></td><td><div class=\"dni-plaintext\">2.3</div></td><td><div class=\"dni-plaintext\">2</div></td></tr><tr style=\"display: none\"><td><i><div class=\"dni-plaintext\">146</div></i></td><td><div class=\"dni-plaintext\">6.3</div></td><td><div class=\"dni-plaintext\">2.5</div></td><td><div class=\"dni-plaintext\">5</div></td><td><div class=\"dni-plaintext\">1.9</div></td><td><div class=\"dni-plaintext\">2</div></td></tr><tr style=\"display: none\"><td><i><div class=\"dni-plaintext\">147</div></i></td><td><div class=\"dni-plaintext\">6.5</div></td><td><div class=\"dni-plaintext\">3</div></td><td><div class=\"dni-plaintext\">5.2</div></td><td><div class=\"dni-plaintext\">2</div></td><td><div class=\"dni-plaintext\">2</div></td></tr><tr style=\"display: none\"><td><i><div class=\"dni-plaintext\">148</div></i></td><td><div class=\"dni-plaintext\">6.2</div></td><td><div class=\"dni-plaintext\">3.4</div></td><td><div class=\"dni-plaintext\">5.4</div></td><td><div class=\"dni-plaintext\">2.3</div></td><td><div class=\"dni-plaintext\">2</div></td></tr><tr style=\"display: none\"><td><i><div class=\"dni-plaintext\">149</div></i></td><td><div class=\"dni-plaintext\">5.9</div></td><td><div class=\"dni-plaintext\">3</div></td><td><div class=\"dni-plaintext\">5.1</div></td><td><div class=\"dni-plaintext\">1.8</div></td><td><div class=\"dni-plaintext\">2</div></td></tr></tbody><tfoot><tr><td colspan=\"6\" style=\"text-align: center;\"><button style=\"margin: 2px;\" onclick=\"var allRows = document.querySelectorAll(&#39;#table_637851923069725596 tbody tr:nth-child(n)&#39;); for (let i = 0; i &lt; allRows.length; i++) { allRows[i].style.display=&#39;none&#39;; } document.querySelector(&#39;#page_637851923069725596&#39;).innerHTML = 1; var page = parseInt(document.querySelector(&#39;#page_637851923069725596&#39;).innerHTML) - 1; var pageRows = document.querySelectorAll(`#table_637851923069725596 tbody tr:nth-child(n + ${page * 25 + 1 })`); for (let j = 0; j &lt; 25; j++) { pageRows[j].style.display=&#39;table-row&#39;; } \">⏮</button><button style=\"margin: 2px;\" onclick=\"var allRows = document.querySelectorAll(&#39;#table_637851923069725596 tbody tr:nth-child(n)&#39;); for (let i = 0; i &lt; allRows.length; i++) { allRows[i].style.display=&#39;none&#39;; } var page = parseInt(document.querySelector(&#39;#page_637851923069725596&#39;).innerHTML) - 1; page = parseInt(page) + parseInt(-10); page = page &lt; 0 ? 0 : page; page = page > 5 ? 5 : page; document.querySelector(&#39;#page_637851923069725596&#39;).innerHTML = page + 1; var page = parseInt(document.querySelector(&#39;#page_637851923069725596&#39;).innerHTML) - 1; var pageRows = document.querySelectorAll(`#table_637851923069725596 tbody tr:nth-child(n + ${page * 25 + 1 })`); for (let j = 0; j &lt; 25; j++) { pageRows[j].style.display=&#39;table-row&#39;; } \">⏪</button><button style=\"margin: 2px;\" onclick=\"var allRows = document.querySelectorAll(&#39;#table_637851923069725596 tbody tr:nth-child(n)&#39;); for (let i = 0; i &lt; allRows.length; i++) { allRows[i].style.display=&#39;none&#39;; } var page = parseInt(document.querySelector(&#39;#page_637851923069725596&#39;).innerHTML) - 1; page = parseInt(page) + parseInt(-1); page = page &lt; 0 ? 0 : page; page = page > 5 ? 5 : page; document.querySelector(&#39;#page_637851923069725596&#39;).innerHTML = page + 1; var page = parseInt(document.querySelector(&#39;#page_637851923069725596&#39;).innerHTML) - 1; var pageRows = document.querySelectorAll(`#table_637851923069725596 tbody tr:nth-child(n + ${page * 25 + 1 })`); for (let j = 0; j &lt; 25; j++) { pageRows[j].style.display=&#39;table-row&#39;; } \">◀️</button><b style=\"margin: 2px;\">Page</b><b id=\"page_637851923069725596\" style=\"margin: 2px;\">1</b><button style=\"margin: 2px;\" onclick=\"var allRows = document.querySelectorAll(&#39;#table_637851923069725596 tbody tr:nth-child(n)&#39;); for (let i = 0; i &lt; allRows.length; i++) { allRows[i].style.display=&#39;none&#39;; } var page = parseInt(document.querySelector(&#39;#page_637851923069725596&#39;).innerHTML) - 1; page = parseInt(page) + parseInt(1); page = page &lt; 0 ? 0 : page; page = page > 5 ? 5 : page; document.querySelector(&#39;#page_637851923069725596&#39;).innerHTML = page + 1; var page = parseInt(document.querySelector(&#39;#page_637851923069725596&#39;).innerHTML) - 1; var pageRows = document.querySelectorAll(`#table_637851923069725596 tbody tr:nth-child(n + ${page * 25 + 1 })`); for (let j = 0; j &lt; 25; j++) { pageRows[j].style.display=&#39;table-row&#39;; } \">▶️</button><button style=\"margin: 2px;\" onclick=\"var allRows = document.querySelectorAll(&#39;#table_637851923069725596 tbody tr:nth-child(n)&#39;); for (let i = 0; i &lt; allRows.length; i++) { allRows[i].style.display=&#39;none&#39;; } var page = parseInt(document.querySelector(&#39;#page_637851923069725596&#39;).innerHTML) - 1; page = parseInt(page) + parseInt(10); page = page &lt; 0 ? 0 : page; page = page > 5 ? 5 : page; document.querySelector(&#39;#page_637851923069725596&#39;).innerHTML = page + 1; var page = parseInt(document.querySelector(&#39;#page_637851923069725596&#39;).innerHTML) - 1; var pageRows = document.querySelectorAll(`#table_637851923069725596 tbody tr:nth-child(n + ${page * 25 + 1 })`); for (let j = 0; j &lt; 25; j++) { pageRows[j].style.display=&#39;table-row&#39;; } \">⏩</button><button style=\"margin: 2px;\" onclick=\"var allRows = document.querySelectorAll(&#39;#table_637851923069725596 tbody tr:nth-child(n)&#39;); for (let i = 0; i &lt; allRows.length; i++) { allRows[i].style.display=&#39;none&#39;; } document.querySelector(&#39;#page_637851923069725596&#39;).innerHTML = 6; var page = parseInt(document.querySelector(&#39;#page_637851923069725596&#39;).innerHTML) - 1; var pageRows = document.querySelectorAll(`#table_637851923069725596 tbody tr:nth-child(n + ${page * 25 + 1 })`); for (let j = 0; j &lt; 25; j++) { pageRows[j].style.display=&#39;table-row&#39;; } \">⏭️</button></td></tr></tfoot></table><script>var page = parseInt(document.querySelector('#page_637851923069725596').innerHTML) - 1; var pageRows = document.querySelectorAll(`#table_637851923069725596 tbody tr:nth-child(n + ${page * 25 + 1 })`); for (let j = 0; j < 25; j++) { pageRows[j].style.display='table-row'; } </script>"
      ]
     },
     "execution_count": 22,
     "metadata": {},
     "output_type": "execute_result"
    }
   ],
   "source": [
    "// Převede specifický sloupec, který byl typu string na typ Single\n",
    "var corrDf = df.Clone();\n",
    "var stringList = df.Columns[\"Species\"].Cast<string>().ToList();\n",
    "var floatList = StringConverter(stringList);\n",
    "// Odstranění požadovaného sloupce se string hodnotami a připojení nového sloupce již se změněnými hodnotami \n",
    "corrDf.Columns.Remove(\"Species\");\n",
    "PrimitiveDataFrameColumn<Single> newColumn = new PrimitiveDataFrameColumn<Single>(\"Species\", floatList);\n",
    "corrDf.Columns.Add(newColumn);\n",
    "corrDf"
   ]
  },
  {
   "cell_type": "code",
   "execution_count": 23,
   "id": "e1c09b23-c683-401d-bc57-07b8280c8e38",
   "metadata": {},
   "outputs": [],
   "source": [
    "// Převedení sloupců z dataframu na pole\n",
    "var matrixColumns = new double[columnNames.Count][];\n",
    "for(int i = 0; i < columnNames.Count; i++)\n",
    "{\n",
    "     matrixColumns[i] = corrDf.Columns[columnNames[i]].Cast<Single>().ToList().ConvertAll(x => (double)x).ToArray();\n",
    "}"
   ]
  },
  {
   "cell_type": "code",
   "execution_count": 24,
   "id": "fb2a062a-b15a-4d2c-ba05-8eb60d7846a7",
   "metadata": {},
   "outputs": [
    {
     "data": {
      "text/html": [
       "<table id=\"table_637851923085096924\"><thead><tr><th><i>index</i></th><th>SepalLengthCm</th><th>SepalWidthCm</th><th>PetalLengthCm</th><th>PetalWidthCm</th><th>Species</th></tr></thead><tbody><tr><td><i><div class=\"dni-plaintext\">0</div></i></td><td><div class=\"dni-plaintext\">1</div></td><td><div class=\"dni-plaintext\">-0.10936928622571292</div></td><td><div class=\"dni-plaintext\">0.8717541656669878</div></td><td><div class=\"dni-plaintext\">0.8179536373532039</div></td><td><div class=\"dni-plaintext\">0.7825612451594246</div></td></tr><tr><td><i><div class=\"dni-plaintext\">1</div></i></td><td><div class=\"dni-plaintext\">-0.10936928622571292</div></td><td><div class=\"dni-plaintext\">1</div></td><td><div class=\"dni-plaintext\">-0.42051611476913897</div></td><td><div class=\"dni-plaintext\">-0.35654410088264593</div></td><td><div class=\"dni-plaintext\">-0.4194462149834242</div></td></tr><tr><td><i><div class=\"dni-plaintext\">2</div></i></td><td><div class=\"dni-plaintext\">0.8717541656669878</div></td><td><div class=\"dni-plaintext\">-0.42051611476913897</div></td><td><div class=\"dni-plaintext\">1</div></td><td><div class=\"dni-plaintext\">0.9627570943307198</div></td><td><div class=\"dni-plaintext\">0.9490425460506304</div></td></tr><tr><td><i><div class=\"dni-plaintext\">3</div></i></td><td><div class=\"dni-plaintext\">0.8179536373532039</div></td><td><div class=\"dni-plaintext\">-0.35654410088264593</div></td><td><div class=\"dni-plaintext\">0.9627570943307198</div></td><td><div class=\"dni-plaintext\">1</div></td><td><div class=\"dni-plaintext\">0.9564638214620798</div></td></tr><tr><td><i><div class=\"dni-plaintext\">4</div></i></td><td><div class=\"dni-plaintext\">0.7825612451594246</div></td><td><div class=\"dni-plaintext\">-0.4194462149834242</div></td><td><div class=\"dni-plaintext\">0.9490425460506304</div></td><td><div class=\"dni-plaintext\">0.9564638214620798</div></td><td><div class=\"dni-plaintext\">1</div></td></tr></tbody></table>"
      ]
     },
     "execution_count": 24,
     "metadata": {},
     "output_type": "execute_result"
    }
   ],
   "source": [
    "// Vypočítání korelační matice\n",
    "var corrMatrix = Correlation.PearsonMatrix(matrixColumns);\n",
    "\n",
    "// Převedení matice na data frame kvůli vizualizaci tabulky\n",
    "var doubleDataFrameColumn = new List<DoubleDataFrameColumn>();\n",
    "for(int i = 0; i < columnNames.Count; i++)\n",
    "{\n",
    "    doubleDataFrameColumn.Add(new DoubleDataFrameColumn(columnNames[i], corrMatrix.Column(i)));\n",
    "}\n",
    "\n",
    "DataFrame corrMatrixDf = new DataFrame(doubleDataFrameColumn);\n",
    "corrMatrixDf"
   ]
  },
  {
   "cell_type": "code",
   "execution_count": 25,
   "id": "bd7afd0f-9dbe-4cc0-95ef-b5b3d01a4112",
   "metadata": {},
   "outputs": [
    {
     "data": {
      "text/html": [
       "<!DOCTYPE html>\r\n",
       "<div style=\"width: 900px; height: 500px;\" id=\"8f74a999-c212-4ad0-9a6f-c3829746888b\"></div><script type=\"text/javascript\">\r\n",
       "\n",
       "var renderPlotly = function() {\n",
       "    var xplotRequire = require.config({context:'xplot-3.0.1',paths:{plotly:'https://cdn.plot.ly/plotly-1.49.2.min'}}) || require;\n",
       "    xplotRequire(['plotly'], function(Plotly) { \r\n",
       "\n",
       "            var data = [{\"type\":\"heatmap\",\"z\":[[1.0,-0.10936928622571292,0.8717541656669878,0.8179536373532039,0.7825612451594246],[-0.10936928622571292,1.0,-0.42051611476913897,-0.35654410088264593,-0.4194462149834242],[0.8717541656669878,-0.42051611476913897,1.0,0.9627570943307198,0.9490425460506304],[0.8179536373532039,-0.35654410088264593,0.9627570943307198,1.0,0.9564638214620798],[0.7825612451594246,-0.4194462149834242,0.9490425460506304,0.9564638214620798,1.0]],\"x\":[\"SepalLengthCm\",\"SepalWidthCm\",\"PetalLengthCm\",\"PetalWidthCm\",\"Species\"],\"y\":[\"SepalLengthCm\",\"SepalWidthCm\",\"PetalLengthCm\",\"PetalWidthCm\",\"Species\"]}];\n",
       "           var layout = \"\";\n",
       "           Plotly.newPlot('8f74a999-c212-4ad0-9a6f-c3829746888b', data, layout);\n",
       "        \r\n",
       "});\n",
       "};\r\n",
       "// ensure `require` is available globally\r\n",
       "if ((typeof(require) !==  typeof(Function)) || (typeof(require.config) !== typeof(Function))) {\r\n",
       "    let require_script = document.createElement('script');\r\n",
       "    require_script.setAttribute('src', 'https://cdnjs.cloudflare.com/ajax/libs/require.js/2.3.6/require.min.js');\r\n",
       "    require_script.setAttribute('type', 'text/javascript');\r\n",
       "    \r\n",
       "    \r\n",
       "    require_script.onload = function() {\r\n",
       "        renderPlotly();\r\n",
       "    };\r\n",
       "\r\n",
       "    document.getElementsByTagName('head')[0].appendChild(require_script);\r\n",
       "}\r\n",
       "else {\r\n",
       "    renderPlotly();\r\n",
       "}\r\n",
       "\r\n",
       "</script>\r\n"
      ]
     },
     "execution_count": 25,
     "metadata": {},
     "output_type": "execute_result"
    }
   ],
   "source": [
    "// Vizualizace korelační matice\n",
    "Chart.Plot(\n",
    "    new Heatmap\n",
    "    {\n",
    "        x = columnNames,\n",
    "        y = columnNames,\n",
    "        z = corrMatrix.ToColumnArrays()\n",
    "    }\n",
    ")"
   ]
  },
  {
   "cell_type": "markdown",
   "id": "44ba6a80-9f8e-4085-a8c0-e6e68064ea08",
   "metadata": {},
   "source": [
    "<h4><center>Trénování modelu</center></h4>\n",
    "<hr>"
   ]
  },
  {
   "cell_type": "code",
   "execution_count": 26,
   "id": "0d729562-3c71-4e9c-869b-f44dbaf85cb6",
   "metadata": {},
   "outputs": [
    {
     "name": "stdout",
     "output_type": "stream",
     "text": [
      "Label: 1, Prediction: 1\n",
      "\n",
      "Label: 2, Prediction: 2\n",
      "\n",
      "Label: 3, Prediction: 3\n",
      "\n",
      "Label: 1, Prediction: 1\n",
      "\n",
      "Label: 2, Prediction: 2\n",
      "\n",
      "Micro Accuracy: 1\n",
      "Macro Accuracy: 1\n",
      "Log Loss: 0.16332898995944975\n",
      "\n",
      "Confusion table\n",
      "                   ||========================\n",
      "PREDICTED          ||     0 |     1 |     2 | Recall\n",
      "TRUTH              ||========================\n",
      "0.     Iris-setosa ||    14 |     0 |     0 | 1.0000\n",
      "1. Iris-versicolor ||     0 |    12 |     0 | 1.0000\n",
      "2.  Iris-virginica ||     0 |     0 |    14 | 1.0000\n",
      "                   ||========================\n",
      "Precision          ||1.0000 |1.0000 |1.0000 |\n",
      "\n"
     ]
    },
    {
     "name": "stderr",
     "output_type": "stream",
     "text": [
      "\n",
      "warning CS1701: Předpokládá se, že odkaz na sestavení Microsoft.AspNetCore.Html.Abstractions, Version=2.2.0.0, Culture=neutral, PublicKeyToken=adb9793829ddae60, který používá Microsoft.DotNet.Interactive.Formatting, odpovídá identitě Microsoft.AspNetCore.Html.Abstractions, Version=6.0.0.0, Culture=neutral, PublicKeyToken=adb9793829ddae60 pro Microsoft.AspNetCore.Html.Abstractions. Možná budete muset zadat zásady pro běh.\n",
      "\n"
     ]
    }
   ],
   "source": [
    "// Rozdělení datasetu na trénovací a testovací množiny 70:30\n",
    "DataOperationsCatalog.TrainTestData split = context.Data.TrainTestSplit(data, testFraction: 0.3);\n",
    "\n",
    "string[] featureColumnNames = data.Schema.Select(column => column.Name)\n",
    "                          .Where(columnName => columnName != \"Species\").ToArray();\n",
    "\n",
    "// Tvorba pipeliny \n",
    "IEstimator<ITransformer> pipeline = context.Transforms.Concatenate(\"Features\", featureColumnNames)\n",
    "    .Append(context.Transforms.Conversion.MapValueToKey(\"Label\", \"Species\")) // Změní string hodnoty na int\n",
    "    .Append(context.MulticlassClassification.Trainers.LbfgsMaximumEntropy());\n",
    "\n",
    "ITransformer model = pipeline.Fit(split.TrainSet);\n",
    "\n",
    "var predictions = model.Transform(split.TestSet);\n",
    "\n",
    "// Převedení IDataView na List\n",
    "var listOfPredictions = context.Data.CreateEnumerable<ModelOutput>(predictions, reuseRowObject: false).ToList();\n",
    "\n",
    "// Zobrazení náhodných 5 predikcí\n",
    "Random rand = new Random();\n",
    "foreach (var p in listOfPredictions.OrderBy(x => rand.Next()).Take(5))\n",
    "{\n",
    "    Console.WriteLine($\"Label: {p.Label}, Prediction: {p.PredictedLabel}\\n\");\n",
    "}\n",
    "\n",
    "var metrics = context.MulticlassClassification.Evaluate(predictions);\n",
    "\n",
    "Console.WriteLine($\"Micro Accuracy: {metrics.MicroAccuracy}\");\n",
    "Console.WriteLine($\"Macro Accuracy: {metrics.MacroAccuracy}\");\n",
    "Console.WriteLine($\"Log Loss: {metrics.LogLoss}\");\n",
    "\n",
    "Console.WriteLine(metrics.ConfusionMatrix.GetFormattedConfusionTable());"
   ]
  },
  {
   "cell_type": "markdown",
   "id": "c5defc25-15ba-4628-8f2a-5052754e1932",
   "metadata": {},
   "source": [
    "<h4><center>Validace modelu náhodných vzorkem</center></h4>\n",
    "<hr>"
   ]
  },
  {
   "cell_type": "code",
   "execution_count": 27,
   "id": "137fdfbc-55aa-4472-9a0f-182587dc1d44",
   "metadata": {
    "tags": []
   },
   "outputs": [
    {
     "data": {
      "text/html": [
       "<table id=\"table_637851923156803772\"><thead><tr><th><i>index</i></th><th>Label</th><th>Prediction</th></tr></thead><tbody><tr><td><i><div class=\"dni-plaintext\">0</div></i></td><td>Iris-setosa</td><td>92.58%</td></tr><tr><td><i><div class=\"dni-plaintext\">1</div></i></td><td>Iris-versicolor</td><td>7.42%</td></tr><tr><td><i><div class=\"dni-plaintext\">2</div></i></td><td>Iris-virginica</td><td>0.00%</td></tr></tbody></table>"
      ]
     },
     "execution_count": 27,
     "metadata": {},
     "output_type": "execute_result"
    }
   ],
   "source": [
    "// Nový testovací vzorek \n",
    "var irisTestData = new ModelInput()\n",
    "{\n",
    "    SepalLengthCm = 5.0f,\n",
    "    SepalWidthCm = 3.4f,\n",
    "    PetalLengthCm = 1.7f,\n",
    "    PetalWidthCm = 0.2f\n",
    "};\n",
    "\n",
    "var predictionEngine = context.Model.CreatePredictionEngine<ModelInput, ModelOutput>(model);\n",
    "\n",
    "var testDataPrediction = predictionEngine.Predict(irisTestData);\n",
    "\n",
    "StringDataFrameColumn labelCol = new StringDataFrameColumn(\"Label\", new string[] { \"Iris-setosa\",\n",
    "                                                \"Iris-versicolor\", \"Iris-virginica\"});\n",
    "StringDataFrameColumn predCol = new StringDataFrameColumn(\"Prediction\", new string[] { $\"{testDataPrediction.Score[0]*100:F2}%\",\n",
    "                                                 $\"{testDataPrediction.Score[1]*100:F2}%\",  $\"{testDataPrediction.Score[2]*100:F2}%\" });\n",
    "\n",
    "DataFrame predictionDf = new DataFrame(labelCol, predCol);\n",
    "predictionDf"
   ]
  },
  {
   "cell_type": "markdown",
   "id": "3290df37-0862-4677-9ff8-9b55117eaeb3",
   "metadata": {},
   "source": [
    "<h4><center>Auto ML </center></h4>\n",
    "<div><center>Automaticky natrénovaný model s nejlepší přesností</center></div>\n",
    "<hr>"
   ]
  },
  {
   "cell_type": "code",
   "execution_count": 28,
   "id": "1080ffca-be69-495b-97cf-0cdf5706f033",
   "metadata": {},
   "outputs": [
    {
     "name": "stdout",
     "output_type": "stream",
     "text": [
      "SdcaMaximumEntropyMulti\n",
      "0.9772727272727273\n"
     ]
    }
   ],
   "source": [
    "// AutoML\n",
    "var experiment = context.Auto().CreateMulticlassClassificationExperiment(maxExperimentTimeInSeconds: 10);\n",
    "\n",
    "var result = experiment.Execute(data, labelColumnName: \"Species\");\n",
    "\n",
    "Console.WriteLine(result.BestRun.TrainerName);\n",
    "\n",
    "Console.WriteLine(result.BestRun.ValidationMetrics.MacroAccuracy);"
   ]
  },
  {
   "cell_type": "markdown",
   "id": "b3d2d299-c6a0-43e4-86ef-7558ab0a3b5e",
   "metadata": {},
   "source": [
    "<h4><center>Ukládání a načítaní modelů</center></h4>\n",
    "<hr>"
   ]
  },
  {
   "cell_type": "code",
   "execution_count": 30,
   "id": "c167fe7d-c7b5-460d-a138-84411d95f7d5",
   "metadata": {},
   "outputs": [],
   "source": [
    "// Uložení modelu do uvedené složky\n",
    "string modelName = \"IrisModel\";\n",
    "context.Model.Save(model, data.Schema, $\"./Models/{modelName}.zip\");"
   ]
  },
  {
   "cell_type": "code",
   "execution_count": 31,
   "id": "ab2d9bbe-28ef-4d94-bd74-455be15f704a",
   "metadata": {},
   "outputs": [
    {
     "data": {
      "text/html": [
       "<table id=\"table_637851923445314313\"><thead><tr><th><i>index</i></th><th>Label</th><th>Prediction</th></tr></thead><tbody><tr><td><i><div class=\"dni-plaintext\">0</div></i></td><td>Iris-setosa</td><td>92.58%</td></tr><tr><td><i><div class=\"dni-plaintext\">1</div></i></td><td>Iris-versicolor</td><td>7.42%</td></tr><tr><td><i><div class=\"dni-plaintext\">2</div></i></td><td>Iris-virginica</td><td>0.00%</td></tr></tbody></table>"
      ]
     },
     "execution_count": 31,
     "metadata": {},
     "output_type": "execute_result"
    }
   ],
   "source": [
    "// Definice DataViewSchema pro přípravu pipeliny a trénování dat\n",
    "DataViewSchema modelSchema;\n",
    "\n",
    "// Načtení modelu z uvedené složky\n",
    "ITransformer trainedModel = context.Model.Load($\"./Models/{modelName}.zip\", out modelSchema);\n",
    "\n",
    "PredictionEngine<ModelInput, ModelOutput> predictionEngine = context.Model.CreatePredictionEngine<ModelInput, ModelOutput>(trainedModel);\n",
    "\n",
    "// Vzorek dat\n",
    "ModelInput inputData = new ModelInput\n",
    "{\n",
    "    SepalLengthCm = 5.0f,\n",
    "    SepalWidthCm = 3.2f,\n",
    "    PetalLengthCm = 1.3f,\n",
    "    PetalWidthCm = 0.2f\n",
    "};\n",
    "\n",
    "// Predikce načteného modelu\n",
    "ModelOutput prediction = predictionEngine.Predict(inputData);\n",
    "\n",
    "// Vizualizace predikce\n",
    "StringDataFrameColumn labelCol = new StringDataFrameColumn(\"Label\", new string[] { \"Iris-setosa\",\n",
    "                                                \"Iris-versicolor\", \"Iris-virginica\"});\n",
    "StringDataFrameColumn predCol = new StringDataFrameColumn(\"Prediction\", new string[] { $\"{testDataPrediction.Score[0]*100:F2}%\",\n",
    "                                                 $\"{testDataPrediction.Score[1]*100:F2}%\",  $\"{testDataPrediction.Score[2]*100:F2}%\" });\n",
    "\n",
    "DataFrame predictionDf = new DataFrame(labelCol, predCol);\n",
    "predictionDf"
   ]
  },
  {
   "cell_type": "code",
   "execution_count": null,
   "id": "d38698c6-dfb6-437d-abc0-ffa2c0de4be1",
   "metadata": {},
   "outputs": [],
   "source": []
  }
 ],
 "metadata": {
  "kernelspec": {
   "display_name": ".NET (C#)",
   "language": "C#",
   "name": ".net-csharp"
  },
  "language_info": {
   "file_extension": ".cs",
   "mimetype": "text/x-csharp",
   "name": "C#",
   "pygments_lexer": "csharp",
   "version": "9.0"
  }
 },
 "nbformat": 4,
 "nbformat_minor": 5
}
